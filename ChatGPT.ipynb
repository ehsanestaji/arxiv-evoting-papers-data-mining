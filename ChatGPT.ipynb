{
 "cells": [
  {
   "cell_type": "markdown",
   "id": "cf77d21a-bcff-4c6d-97e6-033fa8875229",
   "metadata": {},
   "source": [
    "https://colab.research.google.com/drive/1vl98oSAIK14wa5Fa0bFVc-o8zj2dJvUD?usp=sharing#scrollTo=Rp48i5StnZMe"
   ]
  },
  {
   "cell_type": "code",
   "execution_count": 1,
   "id": "00c625b1-e9fe-4bed-8723-0609b01b2123",
   "metadata": {},
   "outputs": [
    {
     "name": "stdout",
     "output_type": "stream",
     "text": [
      "Collecting pyChatGPT\n",
      "  Downloading pyChatGPT-0.3.9.6-py3-none-any.whl (22 kB)\n",
      "Collecting PyVirtualDisplay>=3.0\n",
      "  Downloading PyVirtualDisplay-3.0-py3-none-any.whl (15 kB)\n",
      "Collecting undetected-chromedriver>=3.1.7\n",
      "  Downloading undetected-chromedriver-3.1.7.tar.gz (58 kB)\n",
      "\u001b[2K     \u001b[38;2;114;156;31m━━━━━━━━━━━━━━━━━━━━━━━━━━━━━━━━━━━━━━━━\u001b[0m \u001b[32m58.1/58.1 kB\u001b[0m \u001b[31m8.2 MB/s\u001b[0m eta \u001b[36m0:00:00\u001b[0m\n",
      "\u001b[?25h  Preparing metadata (setup.py) ... \u001b[?25ldone\n",
      "\u001b[?25hCollecting markdownify>=0.11.6\n",
      "  Downloading markdownify-0.11.6-py3-none-any.whl (16 kB)\n",
      "Requirement already satisfied: six<2,>=1.15 in /home/ehsan/anaconda3/lib/python3.9/site-packages (from markdownify>=0.11.6->pyChatGPT) (1.16.0)\n",
      "Requirement already satisfied: beautifulsoup4<5,>=4.9 in /home/ehsan/anaconda3/lib/python3.9/site-packages (from markdownify>=0.11.6->pyChatGPT) (4.11.1)\n",
      "Collecting selenium>=4.0.0\n",
      "  Downloading selenium-4.7.2-py3-none-any.whl (6.3 MB)\n",
      "\u001b[2K     \u001b[38;2;114;156;31m━━━━━━━━━━━━━━━━━━━━━━━━━━━━━━━━━━━━━━━━\u001b[0m \u001b[32m6.3/6.3 MB\u001b[0m \u001b[31m20.6 MB/s\u001b[0m eta \u001b[36m0:00:00\u001b[0m[36m0:00:01\u001b[0m[36m0:00:01\u001b[0m:01\u001b[0m\n",
      "\u001b[?25hRequirement already satisfied: requests in /home/ehsan/anaconda3/lib/python3.9/site-packages (from undetected-chromedriver>=3.1.7->pyChatGPT) (2.28.1)\n",
      "Collecting websockets\n",
      "  Downloading websockets-10.4-cp39-cp39-manylinux_2_5_x86_64.manylinux1_x86_64.manylinux_2_17_x86_64.manylinux2014_x86_64.whl (106 kB)\n",
      "\u001b[2K     \u001b[38;2;114;156;31m━━━━━━━━━━━━━━━━━━━━━━━━━━━━━━━━━━━━━━\u001b[0m \u001b[32m106.5/106.5 kB\u001b[0m \u001b[31m17.4 MB/s\u001b[0m eta \u001b[36m0:00:00\u001b[0m\n",
      "\u001b[?25hRequirement already satisfied: soupsieve>1.2 in /home/ehsan/anaconda3/lib/python3.9/site-packages (from beautifulsoup4<5,>=4.9->markdownify>=0.11.6->pyChatGPT) (2.3.2.post1)\n",
      "Requirement already satisfied: certifi>=2021.10.8 in /home/ehsan/anaconda3/lib/python3.9/site-packages (from selenium>=4.0.0->undetected-chromedriver>=3.1.7->pyChatGPT) (2022.9.24)\n",
      "Collecting trio~=0.17\n",
      "  Downloading trio-0.22.0-py3-none-any.whl (384 kB)\n",
      "\u001b[2K     \u001b[38;2;114;156;31m━━━━━━━━━━━━━━━━━━━━━━━━━━━━━━━━━━━━━━\u001b[0m \u001b[32m384.9/384.9 kB\u001b[0m \u001b[31m18.3 MB/s\u001b[0m eta \u001b[36m0:00:00\u001b[0m\n",
      "\u001b[?25hCollecting trio-websocket~=0.9\n",
      "  Downloading trio_websocket-0.9.2-py3-none-any.whl (16 kB)\n",
      "Requirement already satisfied: urllib3[socks]~=1.26 in /home/ehsan/anaconda3/lib/python3.9/site-packages (from selenium>=4.0.0->undetected-chromedriver>=3.1.7->pyChatGPT) (1.26.13)\n",
      "Requirement already satisfied: charset-normalizer<3,>=2 in /home/ehsan/anaconda3/lib/python3.9/site-packages (from requests->undetected-chromedriver>=3.1.7->pyChatGPT) (2.0.4)\n",
      "Requirement already satisfied: idna<4,>=2.5 in /home/ehsan/anaconda3/lib/python3.9/site-packages (from requests->undetected-chromedriver>=3.1.7->pyChatGPT) (3.4)\n",
      "Requirement already satisfied: sortedcontainers in /home/ehsan/anaconda3/lib/python3.9/site-packages (from trio~=0.17->selenium>=4.0.0->undetected-chromedriver>=3.1.7->pyChatGPT) (2.4.0)\n",
      "Requirement already satisfied: async-generator>=1.9 in /home/ehsan/anaconda3/lib/python3.9/site-packages (from trio~=0.17->selenium>=4.0.0->undetected-chromedriver>=3.1.7->pyChatGPT) (1.10)\n",
      "Requirement already satisfied: sniffio in /home/ehsan/anaconda3/lib/python3.9/site-packages (from trio~=0.17->selenium>=4.0.0->undetected-chromedriver>=3.1.7->pyChatGPT) (1.2.0)\n",
      "Collecting outcome\n",
      "  Downloading outcome-1.2.0-py2.py3-none-any.whl (9.7 kB)\n",
      "Requirement already satisfied: attrs>=19.2.0 in /home/ehsan/anaconda3/lib/python3.9/site-packages (from trio~=0.17->selenium>=4.0.0->undetected-chromedriver>=3.1.7->pyChatGPT) (22.1.0)\n",
      "Collecting exceptiongroup>=1.0.0rc9\n",
      "  Downloading exceptiongroup-1.1.0-py3-none-any.whl (14 kB)\n",
      "Collecting wsproto>=0.14\n",
      "  Downloading wsproto-1.2.0-py3-none-any.whl (24 kB)\n",
      "Requirement already satisfied: PySocks!=1.5.7,<2.0,>=1.5.6 in /home/ehsan/anaconda3/lib/python3.9/site-packages (from urllib3[socks]~=1.26->selenium>=4.0.0->undetected-chromedriver>=3.1.7->pyChatGPT) (1.7.1)\n",
      "Collecting h11<1,>=0.9.0\n",
      "  Downloading h11-0.14.0-py3-none-any.whl (58 kB)\n",
      "\u001b[2K     \u001b[38;2;114;156;31m━━━━━━━━━━━━━━━━━━━━━━━━━━━━━━━━━━━━━━━━\u001b[0m \u001b[32m58.3/58.3 kB\u001b[0m \u001b[31m8.2 MB/s\u001b[0m eta \u001b[36m0:00:00\u001b[0m\n",
      "\u001b[?25hBuilding wheels for collected packages: undetected-chromedriver\n",
      "  Building wheel for undetected-chromedriver (setup.py) ... \u001b[?25ldone\n",
      "\u001b[?25h  Created wheel for undetected-chromedriver: filename=undetected_chromedriver-3.1.7-py3-none-any.whl size=45426 sha256=04f19475124c9fa0caf9a88178d5888c1ce3a15a4fbfd222cb7db3d60e04f4c2\n",
      "  Stored in directory: /home/ehsan/.cache/pip/wheels/86/1a/98/5b566449c8e0129f488f5018a4b873792deb3a756b3a0cdaf6\n",
      "Successfully built undetected-chromedriver\n",
      "Installing collected packages: PyVirtualDisplay, websockets, outcome, h11, exceptiongroup, wsproto, trio, markdownify, trio-websocket, selenium, undetected-chromedriver, pyChatGPT\n",
      "Successfully installed PyVirtualDisplay-3.0 exceptiongroup-1.1.0 h11-0.14.0 markdownify-0.11.6 outcome-1.2.0 pyChatGPT-0.3.9.6 selenium-4.7.2 trio-0.22.0 trio-websocket-0.9.2 undetected-chromedriver-3.1.7 websockets-10.4 wsproto-1.2.0\n",
      "Note: you may need to restart the kernel to use updated packages.\n"
     ]
    }
   ],
   "source": [
    "pip install pyChatGPT"
   ]
  },
  {
   "cell_type": "code",
   "execution_count": 16,
   "id": "04ee39da-53b2-4f07-9f60-89e43961ce7a",
   "metadata": {},
   "outputs": [],
   "source": [
    "from pyChatGPT import ChatGPT"
   ]
  },
  {
   "cell_type": "code",
   "execution_count": null,
   "id": "4dff8d6d-ee0a-4d4a-b637-551ccf2d5762",
   "metadata": {},
   "outputs": [],
   "source": [
    "eyJhbGciOiJkaXIiLCJlbmMiOiJBMjU2R0NNIn0.._vD4vVTODb5kSyQT.pfgcN2qX0Q0A076s54mQSDZzVi2LOWZgWEqGbpi16LmE6wLB3HyBbNhQKEFBuR7ir4HcsqkGvJqOmknDzyCZlPeUdXnMN0sdVrsUdxQLNk_nSrVSdNTBejAdaNxpguNqQavUhso45DQlPDWdULmJkGgBET0vPxZ-yOY0fdqK39BXxyBlYC-N5r2AylRJ7F6VezldUzajcVZjIKv1RUEc6wKacSmfLm74S7ksd-GCE3j1XWSViTDpjIdi7snfWg8uNdEI7RJiFVk_EVKJEuMUIikO3yiZS1WAWEnxtYqEETd-DQju6zGj0JjEneNV00J6Oq7Jtbw6kUWTay-CtzKx14XpRdpQsowMWEFvnkU7Q1jIrlVbYQXJbxthxekExHRvQigMJZzcKT14qlTQZtnTYjn_Ct7YvRplD5lctSBgrNMKvIDWuNY4Zzibp87c-esAyhLxwS9Cs_1hL05W_ziWr9Zby1XvTlCsQ1mJhjxCAFiKOBLnErNa89ptZvovq_9gylrxk8rijRtF38BIswiIw7aCWGWVx0bvuocB-OsHznWfRKyS3GJL9lBVsCuHmKPHRYS6T8lwSAXyd3ZpJ5HEdH4P5lqbw35tX4eBHOm1TfF4wssnpAeV3YkQBNNiDbLOfG80xM6cVm6aII_rQZRA9mGMEddF3mS5CKSPfd4ZY4NMUlvcmHKC6tk0atgKhrOAIIcqBklGKUpQd3Sv5M561WGvt_jOvKBpKD22KpFEE13t_O56j08ntqI1dlfTZ-EDI7P0vpcKRsLCnVtlQZixoF3HZMvDicWW_JN3h4t2oSOFku5TfPEOeXdRavnAPoQyHy_AG2Myh_ynzxdtVKNio3rVVpluQLz78X8zWtEowk4Xn5qmzmHfrYZ63MvDMeuxHWYmp3fWPqtyE4SeUs3EnWgLub3Nqne_4p_H2rPFa1LVyqGQayKmU6oY2_QD7KxNAZ1rUicX6LtZH_BofrvbWo3qBfnFsb6OwJK7ZlG0j8rdzT0iNyYGb9rU7u3l129a_O4QMGCO__uZ49cBcSQQa55QMSGcdfcvzagtxUDFScIWjyFhl-mcCDB_FQqAiyC9sktpVgk2wnlBvRPAnQhHEuCfxvTn6GinJJjHtJ001n1LaZR2kbq6DgXyGoaQv67fzO4EU0dTyAJpNvoCbgcJqA_UTpjIniWNLoXV0b9id8Uw_I6kj_AQWuGi_ILWXiBWDpxoMkSvsyVl6VohOXMlWbWhWkeURDOpp1Juk25pD70MFuS3xKhir_Wa6v2-d8GhYeZTgtIL-zwNM9ooMQZUx1IXJ4JEthssnlDGG7Q724p6fIduw_T0ADlnw5mutKSt07XT9GxBfJzsA3Aci3hlp4drinz7-J8Ro2ouLOnMMlZ8sIXbCAlMioLEaSWDaR3v2BEPSd5qMnvonvtejn1aIlVG-fm1udoJNyJYqXwgO5ZzBBPfUmioCpzlNLHG3GyIGFp-cvS9VR7dS6tuk0bTExizZTezckg-u7pcSGN2RZmIUT3pX9JX9rhH8UiVwf91Io1q-XTNtG2VOKI35n8qOS8aY2SMWRYL8MBxPo_0DLEG21pxPPkwgWDYpWso9NlrGqRMQqn2--H0P5ve45wAJmN3ni-sTQdli7yWMNWI9LXRBBuhMofafwK0PZpLoOpkJ1UCSLGhL0TV-T-cVU8yue71oGUOuSqpdbpT3pV_bbBGzXG5DBAlUKPXy879ny2Mb4Omf94INgS4Ft_zXH_o6x5a_TTu2SERO7iR8iUXocAWd0bWDpC9CsEnDtk-MsRFq496Db8dGoJpzfHn5qWASbatzzzU4HZG-PgCkOtNlKAA3ifqelLJbhBzkSyCVpuHF3nQJZTTps8vMQudi_2hiFgA-rhLibq889DjKi1RZFnD1ntd1H5mfEZfgcslW0tyKZ73d1H2-GCfh5wk7KoN7Rrn-Q9cLpYzLzu1cyXkSv8T05FVVov--F-O9umXQyD1ZgkTubavNFRzNyx2z7iFSKp6qfp7BSManBTKUXlcXda0GkQltOziB0rm1pX6MJAo9qKz9hHCG5YuysjOsZvp2cmsf145UmGemWN7--8N0vJ7RXA-rChtBj6kBgNBKbiLulzQbnjSyypu53AWbImBawGZqsIVjcDZwcyvZ25DJQXd4RPToaRzMIvf9rpdtc8PPg2gpPXv_axkeiMMEZeFBHO_1VLOF0BqMx6L593RGMk80mY47r-0Xb0R9pPcW3JzwgUr3gARCCjvop_SURz9_yeECrG6PdZXkgjpQOfQeR0eGT6LU42iT7BDfPGy7vi-XlpkJ7AKFNI5Miu4BJ7GKHpKJDWF-qE9TlvrbwBYglUn-Et67NPBwojQrYj0cxz5LK6urw5T.dLLlAm-Uzy0cNububHQb8A"
   ]
  },
  {
   "cell_type": "code",
   "execution_count": 10,
   "id": "a4b693a4-e33c-49a5-afe6-f87e73bae24a",
   "metadata": {},
   "outputs": [],
   "source": [
    "session_token = 'eyJhbGciOiJkaXIiLCJlbmMiOiJBMjU2R0NNIn0.._vD4vVTODb5kSyQT.pfgcN2qX0Q0A076s54mQSDZzVi2LOWZgWEqGbpi16LmE6wLB3HyBbNhQKEFBuR7ir4HcsqkGvJqOmknDzyCZlPeUdXnMN0sdVrsUdxQLNk_nSrVSdNTBejAdaNxpguNqQavUhso45DQlPDWdULmJkGgBET0vPxZ-yOY0fdqK39BXxyBlYC-N5r2AylRJ7F6VezldUzajcVZjIKv1RUEc6wKacSmfLm74S7ksd-GCE3j1XWSViTDpjIdi7snfWg8uNdEI7RJiFVk_EVKJEuMUIikO3yiZS1WAWEnxtYqEETd-DQju6zGj0JjEneNV00J6Oq7Jtbw6kUWTay-CtzKx14XpRdpQsowMWEFvnkU7Q1jIrlVbYQXJbxthxekExHRvQigMJZzcKT14qlTQZtnTYjn_Ct7YvRplD5lctSBgrNMKvIDWuNY4Zzibp87c-esAyhLxwS9Cs_1hL05W_ziWr9Zby1XvTlCsQ1mJhjxCAFiKOBLnErNa89ptZvovq_9gylrxk8rijRtF38BIswiIw7aCWGWVx0bvuocB-OsHznWfRKyS3GJL9lBVsCuHmKPHRYS6T8lwSAXyd3ZpJ5HEdH4P5lqbw35tX4eBHOm1TfF4wssnpAeV3YkQBNNiDbLOfG80xM6cVm6aII_rQZRA9mGMEddF3mS5CKSPfd4ZY4NMUlvcmHKC6tk0atgKhrOAIIcqBklGKUpQd3Sv5M561WGvt_jOvKBpKD22KpFEE13t_O56j08ntqI1dlfTZ-EDI7P0vpcKRsLCnVtlQZixoF3HZMvDicWW_JN3h4t2oSOFku5TfPEOeXdRavnAPoQyHy_AG2Myh_ynzxdtVKNio3rVVpluQLz78X8zWtEowk4Xn5qmzmHfrYZ63MvDMeuxHWYmp3fWPqtyE4SeUs3EnWgLub3Nqne_4p_H2rPFa1LVyqGQayKmU6oY2_QD7KxNAZ1rUicX6LtZH_BofrvbWo3qBfnFsb6OwJK7ZlG0j8rdzT0iNyYGb9rU7u3l129a_O4QMGCO__uZ49cBcSQQa55QMSGcdfcvzagtxUDFScIWjyFhl-mcCDB_FQqAiyC9sktpVgk2wnlBvRPAnQhHEuCfxvTn6GinJJjHtJ001n1LaZR2kbq6DgXyGoaQv67fzO4EU0dTyAJpNvoCbgcJqA_UTpjIniWNLoXV0b9id8Uw_I6kj_AQWuGi_ILWXiBWDpxoMkSvsyVl6VohOXMlWbWhWkeURDOpp1Juk25pD70MFuS3xKhir_Wa6v2-d8GhYeZTgtIL-zwNM9ooMQZUx1IXJ4JEthssnlDGG7Q724p6fIduw_T0ADlnw5mutKSt07XT9GxBfJzsA3Aci3hlp4drinz7-J8Ro2ouLOnMMlZ8sIXbCAlMioLEaSWDaR3v2BEPSd5qMnvonvtejn1aIlVG-fm1udoJNyJYqXwgO5ZzBBPfUmioCpzlNLHG3GyIGFp-cvS9VR7dS6tuk0bTExizZTezckg-u7pcSGN2RZmIUT3pX9JX9rhH8UiVwf91Io1q-XTNtG2VOKI35n8qOS8aY2SMWRYL8MBxPo_0DLEG21pxPPkwgWDYpWso9NlrGqRMQqn2--H0P5ve45wAJmN3ni-sTQdli7yWMNWI9LXRBBuhMofafwK0PZpLoOpkJ1UCSLGhL0TV-T-cVU8yue71oGUOuSqpdbpT3pV_bbBGzXG5DBAlUKPXy879ny2Mb4Omf94INgS4Ft_zXH_o6x5a_TTu2SERO7iR8iUXocAWd0bWDpC9CsEnDtk-MsRFq496Db8dGoJpzfHn5qWASbatzzzU4HZG-PgCkOtNlKAA3ifqelLJbhBzkSyCVpuHF3nQJZTTps8vMQudi_2hiFgA-rhLibq889DjKi1RZFnD1ntd1H5mfEZfgcslW0tyKZ73d1H2-GCfh5wk7KoN7Rrn-Q9cLpYzLzu1cyXkSv8T05FVVov--F-O9umXQyD1ZgkTubavNFRzNyx2z7iFSKp6qfp7BSManBTKUXlcXda0GkQltOziB0rm1pX6MJAo9qKz9hHCG5YuysjOsZvp2cmsf145UmGemWN7--8N0vJ7RXA-rChtBj6kBgNBKbiLulzQbnjSyypu53AWbImBawGZqsIVjcDZwcyvZ25DJQXd4RPToaRzMIvf9rpdtc8PPg2gpPXv_axkeiMMEZeFBHO_1VLOF0BqMx6L593RGMk80mY47r-0Xb0R9pPcW3JzwgUr3gARCCjvop_SURz9_yeECrG6PdZXkgjpQOfQeR0eGT6LU42iT7BDfPGy7vi-XlpkJ7AKFNI5Miu4BJ7GKHpKJDWF-qE9TlvrbwBYglUn-Et67NPBwojQrYj0cxz5LK6urw5T.dLLlAm-Uzy0cNububHQb8A'  # `__Secure-next-auth.session-token` cookie from https://chat.openai.com/chat\n",
    "api = ChatGPT(session_token)  # auth with session token"
   ]
  },
  {
   "cell_type": "code",
   "execution_count": 11,
   "id": "12bb533c-c035-45fd-a97b-315da515a659",
   "metadata": {},
   "outputs": [
    {
     "name": "stdout",
     "output_type": "stream",
     "text": [
      "Generative AI, also known as generative artificial intelligence, is a type of AI that is focused on creating new and original content. This can include generating text, images, music, and other types of media. Generative AI has the potential to revolutionize many different fields and has already begun to make an impact in areas such as art, journalism, and marketing.\n",
      "\n",
      "One of the key characteristics of generative AI is that it is able to generate content based on a set of parameters or rules, rather than simply reproducing existing content. For example, a generative AI system might be trained on a large dataset of images and then be able to generate new images that are similar to those in the dataset, but are not exact copies. This allows generative AI to create new and original content that is not limited by the existing content in the training dataset.\n",
      "\n",
      "There are several different approaches to generative AI, including deep learning, evolutionary algorithms, and rule-based systems. Deep learning is a type of machine learning that involves training a neural network on a large dataset and allowing it to learn patterns and features in the data. Evolutionary algorithms, on the other hand, involve using techniques inspired by natural evolution to generate new content. Rule-based systems use a set of rules or guidelines to generate content, rather than relying on machine learning techniques.\n",
      "\n",
      "Generative AI has the potential to revolutionize many different fields and has already begun to make an impact in a number of areas. In the field of art, generative AI has been used to create unique and original works of art, such as paintings, sculptures, and music. In journalism, generative AI has been used to generate news articles and reports, allowing for more efficient and accurate news coverage. In marketing, generative AI has been used to create personalized and targeted advertisements, increasing the effectiveness of marketing campaigns.\n",
      "\n",
      "Despite the potential benefits of generative AI, there are also some concerns about its potential impact on society. For example, there are concerns that generative AI could be used to create fake news or propaganda, or that it could be used to automate certain jobs, leading to unemployment. There are also concerns about the ethical implications of generative AI, such as the potential for it to create biased or discriminatory content.\n",
      "\n",
      "In conclusion, generative AI is a type of AI that is focused on creating new and original content. It has the potential to revolutionize many different fields and has already begun to make an impact in areas such as art, journalism, and marketing. While there are concerns about the potential impact of generative AI, it is important to carefully consider these issues and ensure that the technology is used ethically and responsibly.\n",
      "\n",
      "\n"
     ]
    }
   ],
   "source": [
    "resp = api.send_message('Write an essay on Generative AI')\n",
    "print(resp['message'])"
   ]
  },
  {
   "cell_type": "code",
   "execution_count": 12,
   "id": "41994924-727d-4046-901e-75774a76f3ff",
   "metadata": {},
   "outputs": [
    {
     "name": "stdout",
     "output_type": "stream",
     "text": [
      "Generative AI, also known as generative artificial intelligence, is a type of AI that is focused on creating new and original content. This can include generating text, images, music, and other types of media. Generative AI has the potential to revolutionize many different fields and has already begun to make an impact in areas such as art, journalism, and marketing.\n",
      "\n",
      "One of the key characteristics of generative AI is that it is able to generate content based on a set of parameters or rules, rather than simply reproducing existing content. For example, a generative AI system might be trained on a large dataset of images and then be able to generate new images that are similar to those in the dataset, but are not exact copies. This allows generative AI to create new and original content that is not limited by the existing content in the training dataset.\n",
      "\n",
      "There are several different approaches to generative AI, including deep learning, evolutionary algorithms, and rule-based systems. Deep learning is a type of machine learning that involves training a neural network on a large dataset and allowing it to learn patterns and features in the data. Evolutionary algorithms, on the other hand, involve using techniques inspired by natural evolution to generate new content. Rule-based systems use a set of rules or guidelines to generate content, rather than relying on machine learning techniques.\n",
      "\n",
      "Generative AI has the potential to revolutionize many different fields and has already begun to make an impact in a number of areas. In the field of art, generative AI has been used to create unique and original works of art, such as paintings, sculptures, and music. In journalism, generative AI has been used to generate news articles and reports, allowing for more efficient and accurate news coverage. In marketing, generative AI has been used to create personalized and targeted advertisements, increasing the effectiveness of marketing campaigns.\n",
      "\n",
      "Despite the potential benefits of generative AI, there are also some concerns about its potential impact on society. For example, there are concerns that generative AI could be used to create fake news or propaganda, or that it could be used to automate certain jobs, leading to unemployment. There are also concerns about the ethical implications of generative AI, such as the potential for it to create biased or discriminatory content.\n",
      "\n",
      "In conclusion, generative AI is a type of AI that is focused on creating new and original content. It has the potential to revolutionize many different fields and has already begun to make an impact in areas such as art, journalism, and marketing. While there are concerns about the potential impact of generative AI, it is important to carefully consider these issues and ensure that the technology is used ethically and responsibly.\n",
      "\n",
      "\n"
     ]
    }
   ],
   "source": [
    "print(resp['message'])"
   ]
  },
  {
   "cell_type": "code",
   "execution_count": 13,
   "id": "11b7ac0f-9d25-4528-946a-3006d1493a8d",
   "metadata": {},
   "outputs": [],
   "source": [
    "resp = api.send_message('Write an essay on Generative AI')\n",
    " "
   ]
  },
  {
   "cell_type": "code",
   "execution_count": null,
   "id": "35b617c7-063b-469b-b6bf-974367d70698",
   "metadata": {},
   "outputs": [],
   "source": []
  }
 ],
 "metadata": {
  "kernelspec": {
   "display_name": "Python 3 (ipykernel)",
   "language": "python",
   "name": "python3"
  },
  "language_info": {
   "codemirror_mode": {
    "name": "ipython",
    "version": 3
   },
   "file_extension": ".py",
   "mimetype": "text/x-python",
   "name": "python",
   "nbconvert_exporter": "python",
   "pygments_lexer": "ipython3",
   "version": "3.9.7"
  }
 },
 "nbformat": 4,
 "nbformat_minor": 5
}
