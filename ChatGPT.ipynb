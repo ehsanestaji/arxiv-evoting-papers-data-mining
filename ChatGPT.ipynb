{
 "cells": [
  {
   "cell_type": "markdown",
   "id": "cf77d21a-bcff-4c6d-97e6-033fa8875229",
   "metadata": {},
   "source": [
    "https://colab.research.google.com/drive/1vl98oSAIK14wa5Fa0bFVc-o8zj2dJvUD?usp=sharing#scrollTo=Rp48i5StnZMe"
   ]
  },
  {
   "cell_type": "code",
   "execution_count": 1,
   "id": "00c625b1-e9fe-4bed-8723-0609b01b2123",
   "metadata": {},
   "outputs": [],
   "source": [
    "#pip install pyChatGPT"
   ]
  },
  {
   "cell_type": "code",
   "execution_count": 2,
   "id": "04ee39da-53b2-4f07-9f60-89e43961ce7a",
   "metadata": {},
   "outputs": [],
   "source": [
    "from pyChatGPT import ChatGPT"
   ]
  },
  {
   "cell_type": "code",
   "execution_count": 6,
   "id": "a4b693a4-e33c-49a5-afe6-f87e73bae24a",
   "metadata": {},
   "outputs": [],
   "source": [
    "session_token = 'eyJhbGciOiJkaXIiLCJlbmMiOiJBMjU2R0NNIn0..N-LTxzIDgFkjipOO.3a3LbsF97HBvq-PqhnfOT0oDiD8RzuM6EFaEuDhqGs98HiqsWXFcgE5YtZwMXJKiaYP0QGM9AnLX396X4FHYgBo4YjysfhwZdGnp7TzznWKu3Y6vNN1CQbeCiVNLzfFoaAq_-MKo2KUZGnM-QIojQAH-G60QJcnNxx32kBwvin6tn7kWOGOEzaaADZIkQ9AwBKVZG_43rLNBv3GxbIyjBWicLI1RSakpyQvyccxfryBwiEbm2nw2Z2I5azvsnPrAiHXeN7YONvVDXsvoXYPVQ5RgdMjArmtCdGOkW9JrgCIbhFLP6n6Ci8yu8M5VnkePbFbXwCdn7gcCQj24ZirpRr6Dpx4Es_MLzt_l2wfnaYZHo_PaMeGbZl9Jc0BxphT0zA0LXpykEInxiDYuiYExE7eYQslZAZIwtpJ6lP5NVuvMtixu2ONrntj8JFgLU5HfMlRtXJ7cvGr_1SSm-7qlnzzqpUtWNxVOoBGXjR2uETyxpy9aUXbA6OFAfW84x51gV1Er5MFSjswTe7RDqUBLpfSOMmVj0zlz3uJTaLJQh_poK-XRUIhcF8wPQ2YdR4IwOQx-N5SG32T2iybYHCC84713aM8HyTGc3v-0ejajpULN5yeMj5CY339JtJaQvYlWYuEkazQkUd8yJajmj-NSxn4yeSkfom2oDIH50WE7VrLO0DeJCPGreIk97VB7_nCmn0Nj1Z6f7Fu5oViKEhpLdaF_UgFBZAnStZebyemr6V86KRUY0Ec6C-dbIMJOsyDjFdVgXFh3trncGNARtJGbsyem7BcdK6L77NrtHT2PmkbtqiI51BlEEGYmlOqN2eBWuqpUxGWCa9COhiWjVjXCGexAuKfyrwmyjPJIOa3BPfhZ5vnlt6KMiONEpVDqgtGSILUkbsLQeJzlZLu8NUDcyEnKFM3GNl7Vk6_pOYSOQ_daXhOQIIesiXE8g-r_K5el63bRuUhg5kJ8gbDQ5RTlq3NOxH1LD_BiggwIvgKh00IlgsFKXjpRkrf-HnGBx1nrTi_ij2-kOzXINpVG128L6OaTl4XAF3arAOu3s_nfXKQyDKRrpLEUcrBYA5INFV1pjBoRPeybb6Dr5pVr8Ry734QL5NXO8SV_lLJZvf5su8MsXCWEW7BDGOCrqsHRK9wky4Jr3Ej20YkuQJ76nX71skUUc6_OGxSB6BR_3KKl3RyGEKF7GzxNcC4yKE4BcmF66n4rFdyKghbTfc3T0EcIBt0E8TwAMywVWCx9Efe0IYc2luVe8nRwtjt4NrCaxTBEu-LzCAAKicxjeTmTMGet-tAQlYqRGlHLSSqEfR-gXlvnV-pYp1Y7UD8zS_YEnMo7daq-qXEReiXRsMwhquv6lXZnwI5AIvS8qEcT79mtYPdBlgDtYxi_23m5YqQdobwdSRwjEj5KF-UhNvD1-0plWAT0DNABEiKOaZESIbmUzfFySfQ68XwlcqScC2tms5kv0C8cAZI0PRCMcuwYKtuIU4QndtJN0vJGcDU_gCGUZp6kzCk-AxuLvLiCUGm-V3ARYGaQgQN0jJI3fsrlB7d-secywfeL764CRiGdWFfWaujEo_Sg_Bjvdj8PvWIPR84vXhXm-mFw9SgJv3B-BPQ1BjEStsS1Ouz8wUIObqE6Ei1YOpA7JVYa8USSAfG1Tc8hfg8FwbfFvZSKXUS4TFOlkjpuuUfSZswDXQYc2imJ3sHembBk0LlBO_DFSibPKesqJoPOtVchb9q21oYZ_vArRQwXSfKfWryxdOv6FQAL7DuLYcZoS6sinvt6q0Ae3J3W-Bxpnb6CxGN82P7xQ7_axY-tskVHqeiKswUBnhFb0FxyHnSJEqs-0UnUC9QG4bwXHm-2J4zMGSWRzzt4tNUuPyjNLaCwDR0s87TgumqD14VMGTj0Tq2VSds8oNyHpGQCOhCzloPQtRe-mZcnvB8sIu5JjxcGZnqi1F_OwPpmGuxZfQYjdY8-T0xHOe9B5ckbrG3AhWkKgalM6jdAyxuejK-X1_HRcrtQmWpRS11qYL_mkDDJxarSmE9PHPJr2PZrJTQuwQ4LFQw1NCvioY5vD6MgcWKwZ3SGGPY8UsCb6wJdKCd9D5EfZkc0TECM2u9tSGgwG0-XxwPP2YvuQ1_qPGT-cRWb2y1cSDvx0360Zrp9B3vOZW9z5yxNFYJXLOsGvEL8zHuIAfIutT-XPBpuW2vaPtwuyzUwL5JgCciH1_Obaqvp2Fv8YXv2DkFxCYvQ2ROJV17tJyKsrt0LtPyEwX_EaqDf20_3oXyLYQBQtdIauRKuzD6_7yQMW8pRHT5r4cmC19oAmXS45rpnk6sr966OOG5p9oj_NggJRjGASUuZgdBJiFmADsWQLHSTEE-anzjyPsLb.aqE1cOBRiIBKv9QIZpiMHQ'  # `__Secure-next-auth.session-token` cookie from https://chat.openai.com/chat\n",
    "api = ChatGPT(session_token)  # auth with session token"
   ]
  },
  {
   "cell_type": "code",
   "execution_count": 7,
   "id": "12bb533c-c035-45fd-a97b-315da515a659",
   "metadata": {},
   "outputs": [
    {
     "name": "stdout",
     "output_type": "stream",
     "text": [
      "Generative AI refers to a class of artificial intelligence (AI) systems that are capable of generating new content that is similar to some existing data. These systems have the ability to create new and unique text, images, music, and other types of media, often with a level of variability and creativity that is similar to that of a human.\n",
      "\n",
      "One of the main goals of generative AI is to enable the creation of new content that is indistinguishable from human-generated content. This has the potential to revolutionize many industries, such as entertainment, advertising, and education, by allowing companies and individuals to generate high-quality content quickly and at a low cost.\n",
      "\n",
      "There are several approaches to building generative AI systems, including machine learning algorithms such as neural networks and deep learning. These algorithms are trained on large datasets of existing content and learn to generate new content that is similar to the training data.\n",
      "\n",
      "One of the most well-known applications of generative AI is in the area of natural language processing (NLP). NLP algorithms can be trained to generate text that is similar to human writing, such as news articles or social media posts. This has the potential to significantly reduce the time and effort required to produce written content for a variety of applications, including marketing and journalism.\n",
      "\n",
      "Another application of generative AI is in the creation of images and videos. These systems can be trained on large datasets of images or videos and learn to generate new content that is similar to the training data. This has the potential to significantly reduce the time and effort required to produce visual content for a variety of applications, including advertising and entertainment.\n",
      "\n",
      "One of the main challenges in building generative AI systems is ensuring that the generated content is of high quality. While these systems are capable of generating content that is similar to human-generated content, there is still a risk that the generated content will be of lower quality or contain errors.\n",
      "\n",
      "Despite these challenges, generative AI has the potential to significantly impact a wide range of industries and has already begun to do so. As these systems continue to improve and become more widely adopted, it is likely that they will play an increasingly important role in the production of content across many different fields.\n",
      "\n",
      "\n"
     ]
    }
   ],
   "source": [
    "resp = api.send_message('Write an essay on Generative AI')\n",
    "print(resp['message'])"
   ]
  },
  {
   "cell_type": "code",
   "execution_count": 8,
   "id": "41994924-727d-4046-901e-75774a76f3ff",
   "metadata": {},
   "outputs": [
    {
     "name": "stdout",
     "output_type": "stream",
     "text": [
      "Generative AI refers to a class of artificial intelligence (AI) systems that are capable of generating new content that is similar to some existing data. These systems have the ability to create new and unique text, images, music, and other types of media, often with a level of variability and creativity that is similar to that of a human.\n",
      "\n",
      "One of the main goals of generative AI is to enable the creation of new content that is indistinguishable from human-generated content. This has the potential to revolutionize many industries, such as entertainment, advertising, and education, by allowing companies and individuals to generate high-quality content quickly and at a low cost.\n",
      "\n",
      "There are several approaches to building generative AI systems, including machine learning algorithms such as neural networks and deep learning. These algorithms are trained on large datasets of existing content and learn to generate new content that is similar to the training data.\n",
      "\n",
      "One of the most well-known applications of generative AI is in the area of natural language processing (NLP). NLP algorithms can be trained to generate text that is similar to human writing, such as news articles or social media posts. This has the potential to significantly reduce the time and effort required to produce written content for a variety of applications, including marketing and journalism.\n",
      "\n",
      "Another application of generative AI is in the creation of images and videos. These systems can be trained on large datasets of images or videos and learn to generate new content that is similar to the training data. This has the potential to significantly reduce the time and effort required to produce visual content for a variety of applications, including advertising and entertainment.\n",
      "\n",
      "One of the main challenges in building generative AI systems is ensuring that the generated content is of high quality. While these systems are capable of generating content that is similar to human-generated content, there is still a risk that the generated content will be of lower quality or contain errors.\n",
      "\n",
      "Despite these challenges, generative AI has the potential to significantly impact a wide range of industries and has already begun to do so. As these systems continue to improve and become more widely adopted, it is likely that they will play an increasingly important role in the production of content across many different fields.\n",
      "\n",
      "\n"
     ]
    }
   ],
   "source": [
    "print(resp['message'])"
   ]
  }
 ],
 "metadata": {
  "kernelspec": {
   "display_name": "Python 3 (ipykernel)",
   "language": "python",
   "name": "python3"
  },
  "language_info": {
   "codemirror_mode": {
    "name": "ipython",
    "version": 3
   },
   "file_extension": ".py",
   "mimetype": "text/x-python",
   "name": "python",
   "nbconvert_exporter": "python",
   "pygments_lexer": "ipython3",
   "version": "3.9.7"
  }
 },
 "nbformat": 4,
 "nbformat_minor": 5
}
