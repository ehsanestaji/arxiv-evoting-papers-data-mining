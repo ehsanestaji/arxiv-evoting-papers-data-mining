{
 "cells": [
  {
   "cell_type": "code",
   "execution_count": 1,
   "id": "b4cc3d3a-7b27-4d83-95f4-c44ddda399e5",
   "metadata": {},
   "outputs": [],
   "source": [
    "import pandas as pd\n",
    "import warnings\n",
    "warnings.filterwarnings('ignore')\n",
    "import warnings\n",
    "warnings.filterwarnings('ignore')\n",
    "df = pd.read_csv('Final Collected Lists')"
   ]
  },
  {
   "cell_type": "code",
   "execution_count": 43,
   "id": "25ceda74-d0e1-4d09-bc41-ef6f20ce735b",
   "metadata": {
    "tags": []
   },
   "outputs": [
    {
     "data": {
      "text/plain": [
       "Int64Index([   41,   142,   143,   144,   145,   146,   147,   148,   149,\n",
       "              209,\n",
       "            ...\n",
       "             9937,  9938,  9939,  9940,  9941,  9944,  9971,  9986, 10001,\n",
       "            10033],\n",
       "           dtype='int64', length=446)"
      ]
     },
     "execution_count": 43,
     "metadata": {},
     "output_type": "execute_result"
    }
   ],
   "source": [
    "df[df.abstract.isnull()].index"
   ]
  },
  {
   "cell_type": "code",
   "execution_count": 44,
   "id": "b09d5d01-07cf-4181-940f-be11f638ce72",
   "metadata": {},
   "outputs": [],
   "source": [
    "import numpy as np\n",
    "def ColumnConvertor(x):\n",
    "    if x == 'nan':\n",
    "        return np.NaN\n",
    "    else:\n",
    "        return float(x)"
   ]
  },
  {
   "cell_type": "code",
   "execution_count": 45,
   "id": "4937a7d9-6fd8-43b6-81c8-f5f4ac94c693",
   "metadata": {},
   "outputs": [
    {
     "data": {
      "text/plain": [
       "2000.0"
      ]
     },
     "execution_count": 45,
     "metadata": {},
     "output_type": "execute_result"
    }
   ],
   "source": [
    "ColumnConvertor('2000.0')"
   ]
  },
  {
   "cell_type": "code",
   "execution_count": 27,
   "id": "8a06b53d-bed0-44e5-8973-6db6dd28ad0e",
   "metadata": {},
   "outputs": [
    {
     "data": {
      "text/plain": [
       "nan"
      ]
     },
     "execution_count": 27,
     "metadata": {},
     "output_type": "execute_result"
    }
   ],
   "source": [
    "ColumnConvertor('nan')"
   ]
  },
  {
   "cell_type": "code",
   "execution_count": 41,
   "id": "c2a400b0-a7a3-4484-8113-acb9ce06cba1",
   "metadata": {
    "collapsed": true,
    "jupyter": {
     "outputs_hidden": true
    },
    "tags": []
   },
   "outputs": [
    {
     "data": {
      "text/plain": [
       "0        2005.0\n",
       "1        1938.0\n",
       "2        2012.0\n",
       "3        2020.0\n",
       "4        2002.0\n",
       "          ...  \n",
       "10030    2020.0\n",
       "10031    2000.0\n",
       "10032    2010.0\n",
       "10033       NaN\n",
       "10034    1999.0\n",
       "Name: pub_year, Length: 10035, dtype: float64"
      ]
     },
     "execution_count": 41,
     "metadata": {},
     "output_type": "execute_result"
    }
   ],
   "source": [
    "df.pub_year.apply(lambda x:ColumnConvertor(x))"
   ]
  },
  {
   "cell_type": "code",
   "execution_count": 42,
   "id": "77f1e65d-9d9a-4873-98ef-91c66f179c50",
   "metadata": {
    "collapsed": true,
    "jupyter": {
     "outputs_hidden": true
    },
    "tags": []
   },
   "outputs": [
    {
     "data": {
      "text/plain": [
       "0        2005.0\n",
       "1        1938.0\n",
       "2        2012.0\n",
       "3        2020.0\n",
       "4        2002.0\n",
       "          ...  \n",
       "10030    2020.0\n",
       "10031    2000.0\n",
       "10032    2010.0\n",
       "10033       NaN\n",
       "10034    1999.0\n",
       "Name: pub_year, Length: 10035, dtype: float64"
      ]
     },
     "execution_count": 42,
     "metadata": {},
     "output_type": "execute_result"
    }
   ],
   "source": [
    "df.pub_year"
   ]
  },
  {
   "cell_type": "code",
   "execution_count": null,
   "id": "2e77e084-0d8c-4e58-b2da-db119ecf642a",
   "metadata": {},
   "outputs": [],
   "source": []
  }
 ],
 "metadata": {
  "kernelspec": {
   "display_name": "Python 3",
   "language": "python",
   "name": "python3"
  },
  "language_info": {
   "codemirror_mode": {
    "name": "ipython",
    "version": 3
   },
   "file_extension": ".py",
   "mimetype": "text/x-python",
   "name": "python",
   "nbconvert_exporter": "python",
   "pygments_lexer": "ipython3",
   "version": "3.8.7"
  }
 },
 "nbformat": 4,
 "nbformat_minor": 5
}
