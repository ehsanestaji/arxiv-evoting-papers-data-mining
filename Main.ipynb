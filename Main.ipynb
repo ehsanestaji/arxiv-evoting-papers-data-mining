{
 "cells": [
  {
   "cell_type": "markdown",
   "id": "675361fc-9bff-44f5-9440-ae2348925bca",
   "metadata": {},
   "source": [
    "## ArXiv API"
   ]
  },
  {
   "cell_type": "code",
   "execution_count": 3,
   "id": "103bf9da-e594-4f96-8387-5dc7805e76cc",
   "metadata": {},
   "outputs": [],
   "source": [
    "#pip install arxiv"
   ]
  },
  {
   "cell_type": "code",
   "execution_count": 37,
   "id": "9d64ce4d-54bf-4df9-8510-7f5a9a79f1d0",
   "metadata": {},
   "outputs": [],
   "source": [
    "import warnings\n",
    "\n",
    "# disable warning messages\n",
    "warnings.filterwarnings('ignore')\n",
    "\n",
    "# your code here\n",
    "\n",
    "\n",
    "\n",
    "\n",
    "import arxiv\n",
    "import pandas as pd\n",
    "import regex as re\n",
    "from tqdm import tqdm\n",
    "import glob \n",
    "import os\n",
    "import spacy\n",
    "def Lexicon_List_Wrapper():\n",
    "    f = open(\"DataCollection/lexicon.txt\", \"r\")\n",
    "    lex_list = []\n",
    "    for lines in f.readlines():\n",
    "        if len(lines) > 0:\n",
    "            title = re.findall(r'\\\"(.+?)\\\"', lines)\n",
    "            lex_list.append(title[0])\n",
    "    return lex_list\n",
    "\n",
    "def PaperGrabber(keyword,depth= 10): \n",
    "    search = arxiv.Search(query = keyword,  max_results = depth,  sort_by = arxiv.SortCriterion.Relevance)\n",
    "    data = []\n",
    "    for result in (search.results()):\n",
    "        #print(result.title , end ='\\n')\n",
    "        #print(result.summary)\n",
    "        data.append([result.title ,  result.summary, result.get_short_id(), result.categories, result.published,result.authors])\n",
    "        #print(data)    #df = pd.DataFrame([data], columns = ['Title', 'Summary','DOI'])\n",
    "    df = pd.DataFrame(data, columns = ['Title', 'Summary','DOI','Categories','Publish Time','Authors']) \n",
    "    return df\n",
    "\n",
    "def FinalCollector(_from,_to, depth):\n",
    "    from datetime import datetime\n",
    "    format = \"%Y-%m-%d[%H:%M:%S]\"\n",
    "    now = datetime.now()\n",
    "    time1 = now.strftime(format)\n",
    "    dff=pd.DataFrame()\n",
    "    for word in tqdm(Lexicon_List_Wrapper()[_from:_to]):\n",
    "        dff = dff.append(PaperGrabber(word,depth), ignore_index= True)\n",
    "    filename = \"data_from_\"+str(_from)+\"to_\"+str(_to)+\"-\"+time1+\".csv\"\n",
    "    dff.to_csv('DataCollection/'+filename)\n",
    "    return dff\n",
    "    \n",
    "    \n",
    "# Merging all the csv files in the one dataframe\n",
    "def FileMarger():\n",
    "    files = os.path.join(\"DataCollection/data_from*.csv\")\n",
    "    files = glob.glob(files)\n",
    "    df = pd.concat(map(pd.read_csv, files), ignore_index=True)\n",
    "    df.drop('Unnamed: 0', axis = 1, inplace= True)\n",
    "    print(\"Mission Completed  ! \")\n",
    "    return df\n"
   ]
  },
  {
   "cell_type": "code",
   "execution_count": 38,
   "id": "7c39e261-fd97-4c9f-ae22-03793deef863",
   "metadata": {},
   "outputs": [
    {
     "name": "stderr",
     "output_type": "stream",
     "text": [
      "100%|█████████████████████████████████████████████| 1/1 [00:00<00:00,  2.55it/s]\n"
     ]
    },
    {
     "data": {
      "text/html": [
       "<div>\n",
       "<style scoped>\n",
       "    .dataframe tbody tr th:only-of-type {\n",
       "        vertical-align: middle;\n",
       "    }\n",
       "\n",
       "    .dataframe tbody tr th {\n",
       "        vertical-align: top;\n",
       "    }\n",
       "\n",
       "    .dataframe thead th {\n",
       "        text-align: right;\n",
       "    }\n",
       "</style>\n",
       "<table border=\"1\" class=\"dataframe\">\n",
       "  <thead>\n",
       "    <tr style=\"text-align: right;\">\n",
       "      <th></th>\n",
       "      <th>Title</th>\n",
       "      <th>Summary</th>\n",
       "      <th>DOI</th>\n",
       "      <th>Categories</th>\n",
       "      <th>Publish Time</th>\n",
       "      <th>Authors</th>\n",
       "    </tr>\n",
       "  </thead>\n",
       "  <tbody>\n",
       "    <tr>\n",
       "      <th>0</th>\n",
       "      <td>PROVIDENCE: a Flexible Round-by-Round Risk-Lim...</td>\n",
       "      <td>A Risk-Limiting Audit (RLA) is a statistical e...</td>\n",
       "      <td>2210.08717v1</td>\n",
       "      <td>[cs.CR]</td>\n",
       "      <td>2022-10-17 03:14:46+00:00</td>\n",
       "      <td>[Oliver Broadrick, Poorvi L. Vora, Filip Zagór...</td>\n",
       "    </tr>\n",
       "    <tr>\n",
       "      <th>1</th>\n",
       "      <td>Non(c)esuch Ballot-Level Risk-Limiting Audits ...</td>\n",
       "      <td>Risk-limiting audits (RLAs) guarantee a high p...</td>\n",
       "      <td>2207.01362v1</td>\n",
       "      <td>[cs.CR, stat.AP]</td>\n",
       "      <td>2022-07-04 12:35:42+00:00</td>\n",
       "      <td>[Philip B. Stark]</td>\n",
       "    </tr>\n",
       "    <tr>\n",
       "      <th>2</th>\n",
       "      <td>Conservative statistical post-election audits</td>\n",
       "      <td>There are many sources of error in counting vo...</td>\n",
       "      <td>0807.4005v1</td>\n",
       "      <td>[stat.AP]</td>\n",
       "      <td>2008-07-25 06:54:40+00:00</td>\n",
       "      <td>[Philip B. Stark]</td>\n",
       "    </tr>\n",
       "    <tr>\n",
       "      <th>3</th>\n",
       "      <td>Decentralized Verifiable Mail-in Ballot Counti...</td>\n",
       "      <td>As computer vision is prevalently used for mai...</td>\n",
       "      <td>2202.09122v1</td>\n",
       "      <td>[cs.CR]</td>\n",
       "      <td>2022-02-18 11:00:10+00:00</td>\n",
       "      <td>[Peichen Xie, Zihan Zheng, Xian Zhang, Shuo Chen]</td>\n",
       "    </tr>\n",
       "    <tr>\n",
       "      <th>4</th>\n",
       "      <td>Physical Cryptographic Signatures for Absentee...</td>\n",
       "      <td>Physical signature verification on absentee ba...</td>\n",
       "      <td>1812.09423v1</td>\n",
       "      <td>[cs.CR]</td>\n",
       "      <td>2018-12-22 00:43:31+00:00</td>\n",
       "      <td>[Matthew Bernhard]</td>\n",
       "    </tr>\n",
       "  </tbody>\n",
       "</table>\n",
       "</div>"
      ],
      "text/plain": [
       "                                               Title  \\\n",
       "0  PROVIDENCE: a Flexible Round-by-Round Risk-Lim...   \n",
       "1  Non(c)esuch Ballot-Level Risk-Limiting Audits ...   \n",
       "2      Conservative statistical post-election audits   \n",
       "3  Decentralized Verifiable Mail-in Ballot Counti...   \n",
       "4  Physical Cryptographic Signatures for Absentee...   \n",
       "\n",
       "                                             Summary           DOI  \\\n",
       "0  A Risk-Limiting Audit (RLA) is a statistical e...  2210.08717v1   \n",
       "1  Risk-limiting audits (RLAs) guarantee a high p...  2207.01362v1   \n",
       "2  There are many sources of error in counting vo...   0807.4005v1   \n",
       "3  As computer vision is prevalently used for mai...  2202.09122v1   \n",
       "4  Physical signature verification on absentee ba...  1812.09423v1   \n",
       "\n",
       "         Categories              Publish Time  \\\n",
       "0           [cs.CR] 2022-10-17 03:14:46+00:00   \n",
       "1  [cs.CR, stat.AP] 2022-07-04 12:35:42+00:00   \n",
       "2         [stat.AP] 2008-07-25 06:54:40+00:00   \n",
       "3           [cs.CR] 2022-02-18 11:00:10+00:00   \n",
       "4           [cs.CR] 2018-12-22 00:43:31+00:00   \n",
       "\n",
       "                                             Authors  \n",
       "0  [Oliver Broadrick, Poorvi L. Vora, Filip Zagór...  \n",
       "1                                  [Philip B. Stark]  \n",
       "2                                  [Philip B. Stark]  \n",
       "3  [Peichen Xie, Zihan Zheng, Xian Zhang, Shuo Chen]  \n",
       "4                                 [Matthew Bernhard]  "
      ]
     },
     "execution_count": 38,
     "metadata": {},
     "output_type": "execute_result"
    }
   ],
   "source": [
    "FinalCollector(0,1,5)"
   ]
  },
  {
   "cell_type": "code",
   "execution_count": 39,
   "id": "98698139-a7d9-4299-a199-8967f5207ec6",
   "metadata": {},
   "outputs": [
    {
     "data": {
      "text/plain": [
       "693"
      ]
     },
     "execution_count": 39,
     "metadata": {},
     "output_type": "execute_result"
    }
   ],
   "source": [
    "len(Lexicon_List_Wrapper())"
   ]
  },
  {
   "cell_type": "code",
   "execution_count": 40,
   "id": "34c025e0-fa92-42e8-8d11-37babbc07076",
   "metadata": {},
   "outputs": [
    {
     "name": "stderr",
     "output_type": "stream",
     "text": [
      "100%|█████████████████████████████████████████████| 1/1 [00:00<00:00,  2.64it/s]\n"
     ]
    },
    {
     "data": {
      "text/html": [
       "<div>\n",
       "<style scoped>\n",
       "    .dataframe tbody tr th:only-of-type {\n",
       "        vertical-align: middle;\n",
       "    }\n",
       "\n",
       "    .dataframe tbody tr th {\n",
       "        vertical-align: top;\n",
       "    }\n",
       "\n",
       "    .dataframe thead th {\n",
       "        text-align: right;\n",
       "    }\n",
       "</style>\n",
       "<table border=\"1\" class=\"dataframe\">\n",
       "  <thead>\n",
       "    <tr style=\"text-align: right;\">\n",
       "      <th></th>\n",
       "      <th>Title</th>\n",
       "      <th>Summary</th>\n",
       "      <th>DOI</th>\n",
       "      <th>Categories</th>\n",
       "      <th>Publish Time</th>\n",
       "      <th>Authors</th>\n",
       "    </tr>\n",
       "  </thead>\n",
       "  <tbody>\n",
       "    <tr>\n",
       "      <th>0</th>\n",
       "      <td>Blind proxy voting</td>\n",
       "      <td>A secret ballot mechanism that enables voting ...</td>\n",
       "      <td>1812.11128v1</td>\n",
       "      <td>[cs.CR]</td>\n",
       "      <td>2018-12-28 17:41:13+00:00</td>\n",
       "      <td>[Zuzana Haniková]</td>\n",
       "    </tr>\n",
       "    <tr>\n",
       "      <th>1</th>\n",
       "      <td>Limiting Risk by Turning Manifest Phantoms int...</td>\n",
       "      <td>Drawing a random sample of ballots to conduct ...</td>\n",
       "      <td>1207.3413v1</td>\n",
       "      <td>[stat.AP]</td>\n",
       "      <td>2012-07-14 11:26:02+00:00</td>\n",
       "      <td>[Jorge H. Banuelos, Philip B. Stark]</td>\n",
       "    </tr>\n",
       "    <tr>\n",
       "      <th>2</th>\n",
       "      <td>A Complete Enumeration of Ballot Permutations ...</td>\n",
       "      <td>Permutations whose prefixes contain at least a...</td>\n",
       "      <td>2209.06087v1</td>\n",
       "      <td>[math.CO, 05A05]</td>\n",
       "      <td>2022-09-13 15:37:45+00:00</td>\n",
       "      <td>[Nathan Sun]</td>\n",
       "    </tr>\n",
       "    <tr>\n",
       "      <th>3</th>\n",
       "      <td>Can Voters Detect Errors on Their Printed Ball...</td>\n",
       "      <td>There is still debate on whether voters can de...</td>\n",
       "      <td>2204.09780v1</td>\n",
       "      <td>[cs.HC, cs.CR, H.1.2; J.4]</td>\n",
       "      <td>2022-04-20 20:40:32+00:00</td>\n",
       "      <td>[Philip Kortum, Michael D. Byrne, Chidera O. A...</td>\n",
       "    </tr>\n",
       "    <tr>\n",
       "      <th>4</th>\n",
       "      <td>Ballot tilings and increasing trees</td>\n",
       "      <td>We study enumerations of Dyck and ballot tilin...</td>\n",
       "      <td>1705.06434v1</td>\n",
       "      <td>[math-ph, math.CO, math.MP]</td>\n",
       "      <td>2017-05-18 06:46:09+00:00</td>\n",
       "      <td>[Keiichi Shigechi]</td>\n",
       "    </tr>\n",
       "  </tbody>\n",
       "</table>\n",
       "</div>"
      ],
      "text/plain": [
       "                                               Title  \\\n",
       "0                                 Blind proxy voting   \n",
       "1  Limiting Risk by Turning Manifest Phantoms int...   \n",
       "2  A Complete Enumeration of Ballot Permutations ...   \n",
       "3  Can Voters Detect Errors on Their Printed Ball...   \n",
       "4                Ballot tilings and increasing trees   \n",
       "\n",
       "                                             Summary           DOI  \\\n",
       "0  A secret ballot mechanism that enables voting ...  1812.11128v1   \n",
       "1  Drawing a random sample of ballots to conduct ...   1207.3413v1   \n",
       "2  Permutations whose prefixes contain at least a...  2209.06087v1   \n",
       "3  There is still debate on whether voters can de...  2204.09780v1   \n",
       "4  We study enumerations of Dyck and ballot tilin...  1705.06434v1   \n",
       "\n",
       "                    Categories              Publish Time  \\\n",
       "0                      [cs.CR] 2018-12-28 17:41:13+00:00   \n",
       "1                    [stat.AP] 2012-07-14 11:26:02+00:00   \n",
       "2             [math.CO, 05A05] 2022-09-13 15:37:45+00:00   \n",
       "3   [cs.HC, cs.CR, H.1.2; J.4] 2022-04-20 20:40:32+00:00   \n",
       "4  [math-ph, math.CO, math.MP] 2017-05-18 06:46:09+00:00   \n",
       "\n",
       "                                             Authors  \n",
       "0                                  [Zuzana Haniková]  \n",
       "1               [Jorge H. Banuelos, Philip B. Stark]  \n",
       "2                                       [Nathan Sun]  \n",
       "3  [Philip Kortum, Michael D. Byrne, Chidera O. A...  \n",
       "4                                 [Keiichi Shigechi]  "
      ]
     },
     "execution_count": 40,
     "metadata": {},
     "output_type": "execute_result"
    }
   ],
   "source": [
    "FinalCollector(1,2,5)"
   ]
  },
  {
   "cell_type": "code",
   "execution_count": 41,
   "id": "28bac361-4370-4868-9cc1-bcf6ca8afd6c",
   "metadata": {},
   "outputs": [
    {
     "name": "stderr",
     "output_type": "stream",
     "text": [
      "100%|█████████████████████████████████████████████| 1/1 [00:00<00:00,  2.70it/s]\n"
     ]
    },
    {
     "data": {
      "text/html": [
       "<div>\n",
       "<style scoped>\n",
       "    .dataframe tbody tr th:only-of-type {\n",
       "        vertical-align: middle;\n",
       "    }\n",
       "\n",
       "    .dataframe tbody tr th {\n",
       "        vertical-align: top;\n",
       "    }\n",
       "\n",
       "    .dataframe thead th {\n",
       "        text-align: right;\n",
       "    }\n",
       "</style>\n",
       "<table border=\"1\" class=\"dataframe\">\n",
       "  <thead>\n",
       "    <tr style=\"text-align: right;\">\n",
       "      <th></th>\n",
       "      <th>Title</th>\n",
       "      <th>Summary</th>\n",
       "      <th>DOI</th>\n",
       "      <th>Categories</th>\n",
       "      <th>Publish Time</th>\n",
       "      <th>Authors</th>\n",
       "    </tr>\n",
       "  </thead>\n",
       "  <tbody>\n",
       "    <tr>\n",
       "      <th>0</th>\n",
       "      <td>Blind proxy voting</td>\n",
       "      <td>A secret ballot mechanism that enables voting ...</td>\n",
       "      <td>1812.11128v1</td>\n",
       "      <td>[cs.CR]</td>\n",
       "      <td>2018-12-28 17:41:13+00:00</td>\n",
       "      <td>[Zuzana Haniková]</td>\n",
       "    </tr>\n",
       "    <tr>\n",
       "      <th>1</th>\n",
       "      <td>Limiting Risk by Turning Manifest Phantoms int...</td>\n",
       "      <td>Drawing a random sample of ballots to conduct ...</td>\n",
       "      <td>1207.3413v1</td>\n",
       "      <td>[stat.AP]</td>\n",
       "      <td>2012-07-14 11:26:02+00:00</td>\n",
       "      <td>[Jorge H. Banuelos, Philip B. Stark]</td>\n",
       "    </tr>\n",
       "    <tr>\n",
       "      <th>2</th>\n",
       "      <td>A Complete Enumeration of Ballot Permutations ...</td>\n",
       "      <td>Permutations whose prefixes contain at least a...</td>\n",
       "      <td>2209.06087v1</td>\n",
       "      <td>[math.CO, 05A05]</td>\n",
       "      <td>2022-09-13 15:37:45+00:00</td>\n",
       "      <td>[Nathan Sun]</td>\n",
       "    </tr>\n",
       "    <tr>\n",
       "      <th>3</th>\n",
       "      <td>Can Voters Detect Errors on Their Printed Ball...</td>\n",
       "      <td>There is still debate on whether voters can de...</td>\n",
       "      <td>2204.09780v1</td>\n",
       "      <td>[cs.HC, cs.CR, H.1.2; J.4]</td>\n",
       "      <td>2022-04-20 20:40:32+00:00</td>\n",
       "      <td>[Philip Kortum, Michael D. Byrne, Chidera O. A...</td>\n",
       "    </tr>\n",
       "    <tr>\n",
       "      <th>4</th>\n",
       "      <td>Ballot tilings and increasing trees</td>\n",
       "      <td>We study enumerations of Dyck and ballot tilin...</td>\n",
       "      <td>1705.06434v1</td>\n",
       "      <td>[math-ph, math.CO, math.MP]</td>\n",
       "      <td>2017-05-18 06:46:09+00:00</td>\n",
       "      <td>[Keiichi Shigechi]</td>\n",
       "    </tr>\n",
       "  </tbody>\n",
       "</table>\n",
       "</div>"
      ],
      "text/plain": [
       "                                               Title  \\\n",
       "0                                 Blind proxy voting   \n",
       "1  Limiting Risk by Turning Manifest Phantoms int...   \n",
       "2  A Complete Enumeration of Ballot Permutations ...   \n",
       "3  Can Voters Detect Errors on Their Printed Ball...   \n",
       "4                Ballot tilings and increasing trees   \n",
       "\n",
       "                                             Summary           DOI  \\\n",
       "0  A secret ballot mechanism that enables voting ...  1812.11128v1   \n",
       "1  Drawing a random sample of ballots to conduct ...   1207.3413v1   \n",
       "2  Permutations whose prefixes contain at least a...  2209.06087v1   \n",
       "3  There is still debate on whether voters can de...  2204.09780v1   \n",
       "4  We study enumerations of Dyck and ballot tilin...  1705.06434v1   \n",
       "\n",
       "                    Categories              Publish Time  \\\n",
       "0                      [cs.CR] 2018-12-28 17:41:13+00:00   \n",
       "1                    [stat.AP] 2012-07-14 11:26:02+00:00   \n",
       "2             [math.CO, 05A05] 2022-09-13 15:37:45+00:00   \n",
       "3   [cs.HC, cs.CR, H.1.2; J.4] 2022-04-20 20:40:32+00:00   \n",
       "4  [math-ph, math.CO, math.MP] 2017-05-18 06:46:09+00:00   \n",
       "\n",
       "                                             Authors  \n",
       "0                                  [Zuzana Haniková]  \n",
       "1               [Jorge H. Banuelos, Philip B. Stark]  \n",
       "2                                       [Nathan Sun]  \n",
       "3  [Philip Kortum, Michael D. Byrne, Chidera O. A...  \n",
       "4                                 [Keiichi Shigechi]  "
      ]
     },
     "execution_count": 41,
     "metadata": {},
     "output_type": "execute_result"
    }
   ],
   "source": [
    "FinalCollector(1,2,5)"
   ]
  },
  {
   "cell_type": "code",
   "execution_count": 42,
   "id": "e8d7743b-2338-4084-9834-5c9eaa06c6f0",
   "metadata": {},
   "outputs": [
    {
     "name": "stderr",
     "output_type": "stream",
     "text": [
      "100%|█████████████████████████████████████████████| 2/2 [00:00<00:00,  2.69it/s]\n"
     ]
    },
    {
     "data": {
      "text/html": [
       "<div>\n",
       "<style scoped>\n",
       "    .dataframe tbody tr th:only-of-type {\n",
       "        vertical-align: middle;\n",
       "    }\n",
       "\n",
       "    .dataframe tbody tr th {\n",
       "        vertical-align: top;\n",
       "    }\n",
       "\n",
       "    .dataframe thead th {\n",
       "        text-align: right;\n",
       "    }\n",
       "</style>\n",
       "<table border=\"1\" class=\"dataframe\">\n",
       "  <thead>\n",
       "    <tr style=\"text-align: right;\">\n",
       "      <th></th>\n",
       "      <th>Title</th>\n",
       "      <th>Summary</th>\n",
       "      <th>DOI</th>\n",
       "      <th>Categories</th>\n",
       "      <th>Publish Time</th>\n",
       "      <th>Authors</th>\n",
       "    </tr>\n",
       "  </thead>\n",
       "  <tbody>\n",
       "    <tr>\n",
       "      <th>0</th>\n",
       "      <td>PROVIDENCE: a Flexible Round-by-Round Risk-Lim...</td>\n",
       "      <td>A Risk-Limiting Audit (RLA) is a statistical e...</td>\n",
       "      <td>2210.08717v1</td>\n",
       "      <td>[cs.CR]</td>\n",
       "      <td>2022-10-17 03:14:46+00:00</td>\n",
       "      <td>[Oliver Broadrick, Poorvi L. Vora, Filip Zagór...</td>\n",
       "    </tr>\n",
       "    <tr>\n",
       "      <th>1</th>\n",
       "      <td>Non(c)esuch Ballot-Level Risk-Limiting Audits ...</td>\n",
       "      <td>Risk-limiting audits (RLAs) guarantee a high p...</td>\n",
       "      <td>2207.01362v1</td>\n",
       "      <td>[cs.CR, stat.AP]</td>\n",
       "      <td>2022-07-04 12:35:42+00:00</td>\n",
       "      <td>[Philip B. Stark]</td>\n",
       "    </tr>\n",
       "    <tr>\n",
       "      <th>2</th>\n",
       "      <td>Conservative statistical post-election audits</td>\n",
       "      <td>There are many sources of error in counting vo...</td>\n",
       "      <td>0807.4005v1</td>\n",
       "      <td>[stat.AP]</td>\n",
       "      <td>2008-07-25 06:54:40+00:00</td>\n",
       "      <td>[Philip B. Stark]</td>\n",
       "    </tr>\n",
       "    <tr>\n",
       "      <th>3</th>\n",
       "      <td>Decentralized Verifiable Mail-in Ballot Counti...</td>\n",
       "      <td>As computer vision is prevalently used for mai...</td>\n",
       "      <td>2202.09122v1</td>\n",
       "      <td>[cs.CR]</td>\n",
       "      <td>2022-02-18 11:00:10+00:00</td>\n",
       "      <td>[Peichen Xie, Zihan Zheng, Xian Zhang, Shuo Chen]</td>\n",
       "    </tr>\n",
       "    <tr>\n",
       "      <th>4</th>\n",
       "      <td>Physical Cryptographic Signatures for Absentee...</td>\n",
       "      <td>Physical signature verification on absentee ba...</td>\n",
       "      <td>1812.09423v1</td>\n",
       "      <td>[cs.CR]</td>\n",
       "      <td>2018-12-22 00:43:31+00:00</td>\n",
       "      <td>[Matthew Bernhard]</td>\n",
       "    </tr>\n",
       "    <tr>\n",
       "      <th>5</th>\n",
       "      <td>Blind proxy voting</td>\n",
       "      <td>A secret ballot mechanism that enables voting ...</td>\n",
       "      <td>1812.11128v1</td>\n",
       "      <td>[cs.CR]</td>\n",
       "      <td>2018-12-28 17:41:13+00:00</td>\n",
       "      <td>[Zuzana Haniková]</td>\n",
       "    </tr>\n",
       "    <tr>\n",
       "      <th>6</th>\n",
       "      <td>Limiting Risk by Turning Manifest Phantoms int...</td>\n",
       "      <td>Drawing a random sample of ballots to conduct ...</td>\n",
       "      <td>1207.3413v1</td>\n",
       "      <td>[stat.AP]</td>\n",
       "      <td>2012-07-14 11:26:02+00:00</td>\n",
       "      <td>[Jorge H. Banuelos, Philip B. Stark]</td>\n",
       "    </tr>\n",
       "    <tr>\n",
       "      <th>7</th>\n",
       "      <td>A Complete Enumeration of Ballot Permutations ...</td>\n",
       "      <td>Permutations whose prefixes contain at least a...</td>\n",
       "      <td>2209.06087v1</td>\n",
       "      <td>[math.CO, 05A05]</td>\n",
       "      <td>2022-09-13 15:37:45+00:00</td>\n",
       "      <td>[Nathan Sun]</td>\n",
       "    </tr>\n",
       "    <tr>\n",
       "      <th>8</th>\n",
       "      <td>Can Voters Detect Errors on Their Printed Ball...</td>\n",
       "      <td>There is still debate on whether voters can de...</td>\n",
       "      <td>2204.09780v1</td>\n",
       "      <td>[cs.HC, cs.CR, H.1.2; J.4]</td>\n",
       "      <td>2022-04-20 20:40:32+00:00</td>\n",
       "      <td>[Philip Kortum, Michael D. Byrne, Chidera O. A...</td>\n",
       "    </tr>\n",
       "    <tr>\n",
       "      <th>9</th>\n",
       "      <td>Ballot tilings and increasing trees</td>\n",
       "      <td>We study enumerations of Dyck and ballot tilin...</td>\n",
       "      <td>1705.06434v1</td>\n",
       "      <td>[math-ph, math.CO, math.MP]</td>\n",
       "      <td>2017-05-18 06:46:09+00:00</td>\n",
       "      <td>[Keiichi Shigechi]</td>\n",
       "    </tr>\n",
       "  </tbody>\n",
       "</table>\n",
       "</div>"
      ],
      "text/plain": [
       "                                               Title  \\\n",
       "0  PROVIDENCE: a Flexible Round-by-Round Risk-Lim...   \n",
       "1  Non(c)esuch Ballot-Level Risk-Limiting Audits ...   \n",
       "2      Conservative statistical post-election audits   \n",
       "3  Decentralized Verifiable Mail-in Ballot Counti...   \n",
       "4  Physical Cryptographic Signatures for Absentee...   \n",
       "5                                 Blind proxy voting   \n",
       "6  Limiting Risk by Turning Manifest Phantoms int...   \n",
       "7  A Complete Enumeration of Ballot Permutations ...   \n",
       "8  Can Voters Detect Errors on Their Printed Ball...   \n",
       "9                Ballot tilings and increasing trees   \n",
       "\n",
       "                                             Summary           DOI  \\\n",
       "0  A Risk-Limiting Audit (RLA) is a statistical e...  2210.08717v1   \n",
       "1  Risk-limiting audits (RLAs) guarantee a high p...  2207.01362v1   \n",
       "2  There are many sources of error in counting vo...   0807.4005v1   \n",
       "3  As computer vision is prevalently used for mai...  2202.09122v1   \n",
       "4  Physical signature verification on absentee ba...  1812.09423v1   \n",
       "5  A secret ballot mechanism that enables voting ...  1812.11128v1   \n",
       "6  Drawing a random sample of ballots to conduct ...   1207.3413v1   \n",
       "7  Permutations whose prefixes contain at least a...  2209.06087v1   \n",
       "8  There is still debate on whether voters can de...  2204.09780v1   \n",
       "9  We study enumerations of Dyck and ballot tilin...  1705.06434v1   \n",
       "\n",
       "                    Categories              Publish Time  \\\n",
       "0                      [cs.CR] 2022-10-17 03:14:46+00:00   \n",
       "1             [cs.CR, stat.AP] 2022-07-04 12:35:42+00:00   \n",
       "2                    [stat.AP] 2008-07-25 06:54:40+00:00   \n",
       "3                      [cs.CR] 2022-02-18 11:00:10+00:00   \n",
       "4                      [cs.CR] 2018-12-22 00:43:31+00:00   \n",
       "5                      [cs.CR] 2018-12-28 17:41:13+00:00   \n",
       "6                    [stat.AP] 2012-07-14 11:26:02+00:00   \n",
       "7             [math.CO, 05A05] 2022-09-13 15:37:45+00:00   \n",
       "8   [cs.HC, cs.CR, H.1.2; J.4] 2022-04-20 20:40:32+00:00   \n",
       "9  [math-ph, math.CO, math.MP] 2017-05-18 06:46:09+00:00   \n",
       "\n",
       "                                             Authors  \n",
       "0  [Oliver Broadrick, Poorvi L. Vora, Filip Zagór...  \n",
       "1                                  [Philip B. Stark]  \n",
       "2                                  [Philip B. Stark]  \n",
       "3  [Peichen Xie, Zihan Zheng, Xian Zhang, Shuo Chen]  \n",
       "4                                 [Matthew Bernhard]  \n",
       "5                                  [Zuzana Haniková]  \n",
       "6               [Jorge H. Banuelos, Philip B. Stark]  \n",
       "7                                       [Nathan Sun]  \n",
       "8  [Philip Kortum, Michael D. Byrne, Chidera O. A...  \n",
       "9                                 [Keiichi Shigechi]  "
      ]
     },
     "execution_count": 42,
     "metadata": {},
     "output_type": "execute_result"
    }
   ],
   "source": [
    "FinalCollector(0,2,5)"
   ]
  },
  {
   "cell_type": "code",
   "execution_count": 43,
   "id": "694e5246-f1b3-4c2b-858e-d2a1f0efd6d2",
   "metadata": {},
   "outputs": [
    {
     "name": "stdout",
     "output_type": "stream",
     "text": [
      "Mission Completed  ! \n"
     ]
    }
   ],
   "source": [
    "df = FileMarger()"
   ]
  },
  {
   "cell_type": "markdown",
   "id": "f1f8e265-9348-4ba0-9168-cadcacaf4609",
   "metadata": {},
   "source": [
    "# ChatGPT Applying"
   ]
  },
  {
   "cell_type": "code",
   "execution_count": 44,
   "id": "366366d8-09d2-4e45-a7af-16a5e6b9d555",
   "metadata": {},
   "outputs": [
    {
     "data": {
      "text/plain": [
       "'PROVIDENCE: a Flexible Round-by-Round Risk-Limiting Audit'"
      ]
     },
     "execution_count": 44,
     "metadata": {},
     "output_type": "execute_result"
    }
   ],
   "source": [
    "df.iloc[0]['Title']"
   ]
  },
  {
   "cell_type": "code",
   "execution_count": 45,
   "id": "416ec909-76f4-4551-b448-bf6f0c2049eb",
   "metadata": {},
   "outputs": [
    {
     "data": {
      "text/plain": [
       "'A Risk-Limiting Audit (RLA) is a statistical election tabulation audit with a\\nrigorous error guarantee. We present ballot polling RLA PROVIDENCE, an audit\\nwith the efficiency of MINERVA and flexibility of BRAVO. We prove that\\nPROVIDENCE is risk-limiting in the presence of an adversary who can choose\\nsubsequent round sizes given knowledge of previous samples. We describe a\\nmeasure of audit workload as a function of the number of rounds, precincts\\ntouched, and ballots drawn.We quantify the problem of obtaining a misleading\\naudit sample when rounds are too small, demonstrating the importance of the\\nresulting constraint on audit planning. We present simulation results\\ndemonstrating the superiority of PROVIDENCE using these measures and describing\\nan approach to planning audit round schedules.\\n  We describe the use of PROVIDENCE by the Rhode Island Board of Elections in a\\ntabulation audit of the 2021 election. Our implementation of PROVIDENCE and\\naudit planning tools in the open source R2B2 library should be useful to the\\nstates of Georgia and Pennsylvania, which are planning pre-certification ballot\\npolling RLAs for the 2022 general election.'"
      ]
     },
     "execution_count": 45,
     "metadata": {},
     "output_type": "execute_result"
    }
   ],
   "source": [
    "df.iloc[0]['Summary']"
   ]
  },
  {
   "cell_type": "code",
   "execution_count": 49,
   "id": "ca332a04-0ce9-45d7-ba61-5bd0070b2e72",
   "metadata": {},
   "outputs": [
    {
     "name": "stderr",
     "output_type": "stream",
     "text": [
      "WARNING:urllib3.connectionpool:Connection pool is full, discarding connection: localhost. Connection pool size: 1\n",
      "WARNING:urllib3.connectionpool:Connection pool is full, discarding connection: localhost. Connection pool size: 1\n",
      "WARNING:urllib3.connectionpool:Retrying (Retry(total=2, connect=None, read=None, redirect=None, status=None)) after connection broken by 'NewConnectionError('<urllib3.connection.HTTPConnection object at 0x7f0843703fa0>: Failed to establish a new connection: [Errno 111] Connection refused')': /session/5ddef27bd23c2a8924cc6ac720d3e993/se/log\n",
      "WARNING:urllib3.connectionpool:Retrying (Retry(total=1, connect=None, read=None, redirect=None, status=None)) after connection broken by 'NewConnectionError('<urllib3.connection.HTTPConnection object at 0x7f0843701af0>: Failed to establish a new connection: [Errno 111] Connection refused')': /session/5ddef27bd23c2a8924cc6ac720d3e993/se/log\n",
      "WARNING:urllib3.connectionpool:Retrying (Retry(total=0, connect=None, read=None, redirect=None, status=None)) after connection broken by 'NewConnectionError('<urllib3.connection.HTTPConnection object at 0x7f08437013a0>: Failed to establish a new connection: [Errno 111] Connection refused')': /session/5ddef27bd23c2a8924cc6ac720d3e993/se/log\n",
      "WARNING:urllib3.connectionpool:Connection pool is full, discarding connection: localhost. Connection pool size: 1\n",
      "WARNING:urllib3.connectionpool:Connection pool is full, discarding connection: localhost. Connection pool size: 1\n"
     ]
    },
    {
     "name": "stdout",
     "output_type": "stream",
     "text": [
      "['[\"Risk-Limiting Audit\", \"PROVIDENCE\", \"MINERVA\", \"BRAVO\", \"adversary\", \"audit workload\", \"misleading audit sample\", \"Rhode Island Board of Elections\", \"2021 election\", \"R2B2 library\", \"Georgia\", \"Pennsylvania\", \"pre-certification ballot polling RLAs\", \"2022 general election\"]\\n\\n'\n",
      " '[\"Risk-limiting audits\", \"incorrect reported outcomes\", \"certified\", \"ballot-level comparison\", \"voting system\", \"cast-vote records\", \"trustworthy paper trail\", \"human interpretation\", \"precinct-count systems\", \"vote anonymity\", \"unique serial number\", \"precinct-count systems\", \"cryptographic nonce\", \"unique pseudo-random number\", \"vote anonymity\", \"unique number\", \"ballot\", \"misreported numbers\", \"Risk limit\", \"anonymity of votes\", \"untrusted technology\", \"adaptive\", \"imprinting\", \"retrieval system\", \"sample size\", \"reported results\", \"imprinting\", \"retrieval\"]\\n\\n'\n",
      " '[\"counting votes\", \"apparent winner\", \"rightful winner\", \"manual recount\", \"sequential test\", \"vote-counting errors\", \"random sample of precincts\", \"natural escalation\", \"overstatement of margin\", \"reported counts\", \"upper bounds\", \"voting technology\", \"precinct sizes\", \"optimal\", \"conservative\", \"nominal significance level\", \"P-value\", \"hypothesis\", \"full manual recount\", \"errors\", \"U.S. Senate race\", \"Minnesota\", \"school board race\", \"Sausalito Marin City School District\", \"California\", \"small contest\", \"voters\", \"up to three candidates\"]\\n\\n'\n",
      " '[\"computer vision\", \"mail-in ballot processing\", \"counting\", \"centralized trust\", \"postal voting\", \"DVote\", \"decentralized trust\", \"blockchain\", \"layer-2 technologies\", \"scrutineers\", \"AnyTrust assumption\", \"honest\", \"computational integrity\", \"trustworthiness\", \"large public blockchain\", \"Ethereum\"]\\n\\n'\n",
      " '[\"Physical signature verification\", \"absentee ballots\", \"2018 midterm elections\", \"United States\", \"Georgia\", \"Florida\", \"Arizona\", \"close election margins\", \"vote-by-mail\", \"signature verification\", \"inexact science\", \"guidelines\", \"jurisdiction\", \"cryptographic remedy\", \"secure\", \"election infrastructure\"]\\n\\n']\n"
     ]
    }
   ],
   "source": [
    "#pip install pyChatGPT\n",
    "import numpy as np\n",
    "from pyChatGPT import ChatGPT\n",
    "session_token = 'eyJhbGciOiJkaXIiLCJlbmMiOiJBMjU2R0NNIn0..N-LTxzIDgFkjipOO.3a3LbsF97HBvq-PqhnfOT0oDiD8RzuM6EFaEuDhqGs98HiqsWXFcgE5YtZwMXJKiaYP0QGM9AnLX396X4FHYgBo4YjysfhwZdGnp7TzznWKu3Y6vNN1CQbeCiVNLzfFoaAq_-MKo2KUZGnM-QIojQAH-G60QJcnNxx32kBwvin6tn7kWOGOEzaaADZIkQ9AwBKVZG_43rLNBv3GxbIyjBWicLI1RSakpyQvyccxfryBwiEbm2nw2Z2I5azvsnPrAiHXeN7YONvVDXsvoXYPVQ5RgdMjArmtCdGOkW9JrgCIbhFLP6n6Ci8yu8M5VnkePbFbXwCdn7gcCQj24ZirpRr6Dpx4Es_MLzt_l2wfnaYZHo_PaMeGbZl9Jc0BxphT0zA0LXpykEInxiDYuiYExE7eYQslZAZIwtpJ6lP5NVuvMtixu2ONrntj8JFgLU5HfMlRtXJ7cvGr_1SSm-7qlnzzqpUtWNxVOoBGXjR2uETyxpy9aUXbA6OFAfW84x51gV1Er5MFSjswTe7RDqUBLpfSOMmVj0zlz3uJTaLJQh_poK-XRUIhcF8wPQ2YdR4IwOQx-N5SG32T2iybYHCC84713aM8HyTGc3v-0ejajpULN5yeMj5CY339JtJaQvYlWYuEkazQkUd8yJajmj-NSxn4yeSkfom2oDIH50WE7VrLO0DeJCPGreIk97VB7_nCmn0Nj1Z6f7Fu5oViKEhpLdaF_UgFBZAnStZebyemr6V86KRUY0Ec6C-dbIMJOsyDjFdVgXFh3trncGNARtJGbsyem7BcdK6L77NrtHT2PmkbtqiI51BlEEGYmlOqN2eBWuqpUxGWCa9COhiWjVjXCGexAuKfyrwmyjPJIOa3BPfhZ5vnlt6KMiONEpVDqgtGSILUkbsLQeJzlZLu8NUDcyEnKFM3GNl7Vk6_pOYSOQ_daXhOQIIesiXE8g-r_K5el63bRuUhg5kJ8gbDQ5RTlq3NOxH1LD_BiggwIvgKh00IlgsFKXjpRkrf-HnGBx1nrTi_ij2-kOzXINpVG128L6OaTl4XAF3arAOu3s_nfXKQyDKRrpLEUcrBYA5INFV1pjBoRPeybb6Dr5pVr8Ry734QL5NXO8SV_lLJZvf5su8MsXCWEW7BDGOCrqsHRK9wky4Jr3Ej20YkuQJ76nX71skUUc6_OGxSB6BR_3KKl3RyGEKF7GzxNcC4yKE4BcmF66n4rFdyKghbTfc3T0EcIBt0E8TwAMywVWCx9Efe0IYc2luVe8nRwtjt4NrCaxTBEu-LzCAAKicxjeTmTMGet-tAQlYqRGlHLSSqEfR-gXlvnV-pYp1Y7UD8zS_YEnMo7daq-qXEReiXRsMwhquv6lXZnwI5AIvS8qEcT79mtYPdBlgDtYxi_23m5YqQdobwdSRwjEj5KF-UhNvD1-0plWAT0DNABEiKOaZESIbmUzfFySfQ68XwlcqScC2tms5kv0C8cAZI0PRCMcuwYKtuIU4QndtJN0vJGcDU_gCGUZp6kzCk-AxuLvLiCUGm-V3ARYGaQgQN0jJI3fsrlB7d-secywfeL764CRiGdWFfWaujEo_Sg_Bjvdj8PvWIPR84vXhXm-mFw9SgJv3B-BPQ1BjEStsS1Ouz8wUIObqE6Ei1YOpA7JVYa8USSAfG1Tc8hfg8FwbfFvZSKXUS4TFOlkjpuuUfSZswDXQYc2imJ3sHembBk0LlBO_DFSibPKesqJoPOtVchb9q21oYZ_vArRQwXSfKfWryxdOv6FQAL7DuLYcZoS6sinvt6q0Ae3J3W-Bxpnb6CxGN82P7xQ7_axY-tskVHqeiKswUBnhFb0FxyHnSJEqs-0UnUC9QG4bwXHm-2J4zMGSWRzzt4tNUuPyjNLaCwDR0s87TgumqD14VMGTj0Tq2VSds8oNyHpGQCOhCzloPQtRe-mZcnvB8sIu5JjxcGZnqi1F_OwPpmGuxZfQYjdY8-T0xHOe9B5ckbrG3AhWkKgalM6jdAyxuejK-X1_HRcrtQmWpRS11qYL_mkDDJxarSmE9PHPJr2PZrJTQuwQ4LFQw1NCvioY5vD6MgcWKwZ3SGGPY8UsCb6wJdKCd9D5EfZkc0TECM2u9tSGgwG0-XxwPP2YvuQ1_qPGT-cRWb2y1cSDvx0360Zrp9B3vOZW9z5yxNFYJXLOsGvEL8zHuIAfIutT-XPBpuW2vaPtwuyzUwL5JgCciH1_Obaqvp2Fv8YXv2DkFxCYvQ2ROJV17tJyKsrt0LtPyEwX_EaqDf20_3oXyLYQBQtdIauRKuzD6_7yQMW8pRHT5r4cmC19oAmXS45rpnk6sr966OOG5p9oj_NggJRjGASUuZgdBJiFmADsWQLHSTEE-anzjyPsLb.aqE1cOBRiIBKv9QIZpiMHQ'  # `__Secure-next-auth.session-token` cookie from https://chat.openai.com/chat\n",
    "api = ChatGPT(session_token)  # auth with session token\n",
    "\n",
    "a = np.array([])\n",
    "for i in range(5):\n",
    "    resp = api.send_message('Return the topic of this summary as a list in python:\\n' + df.iloc[i]['Summary'] )\n",
    "    a = np.append(a, resp['message'])\n",
    "print(a)"
   ]
  },
  {
   "cell_type": "code",
   "execution_count": 50,
   "id": "1fa1108f-d46a-489c-afc9-a452f45c8874",
   "metadata": {
    "tags": []
   },
   "outputs": [
    {
     "data": {
      "text/plain": [
       "array(['[\"Risk-Limiting Audit\", \"PROVIDENCE\", \"MINERVA\", \"BRAVO\", \"adversary\", \"audit workload\", \"misleading audit sample\", \"Rhode Island Board of Elections\", \"2021 election\", \"R2B2 library\", \"Georgia\", \"Pennsylvania\", \"pre-certification ballot polling RLAs\", \"2022 general election\"]\\n\\n',\n",
       "       '[\"Risk-limiting audits\", \"incorrect reported outcomes\", \"certified\", \"ballot-level comparison\", \"voting system\", \"cast-vote records\", \"trustworthy paper trail\", \"human interpretation\", \"precinct-count systems\", \"vote anonymity\", \"unique serial number\", \"precinct-count systems\", \"cryptographic nonce\", \"unique pseudo-random number\", \"vote anonymity\", \"unique number\", \"ballot\", \"misreported numbers\", \"Risk limit\", \"anonymity of votes\", \"untrusted technology\", \"adaptive\", \"imprinting\", \"retrieval system\", \"sample size\", \"reported results\", \"imprinting\", \"retrieval\"]\\n\\n',\n",
       "       '[\"counting votes\", \"apparent winner\", \"rightful winner\", \"manual recount\", \"sequential test\", \"vote-counting errors\", \"random sample of precincts\", \"natural escalation\", \"overstatement of margin\", \"reported counts\", \"upper bounds\", \"voting technology\", \"precinct sizes\", \"optimal\", \"conservative\", \"nominal significance level\", \"P-value\", \"hypothesis\", \"full manual recount\", \"errors\", \"U.S. Senate race\", \"Minnesota\", \"school board race\", \"Sausalito Marin City School District\", \"California\", \"small contest\", \"voters\", \"up to three candidates\"]\\n\\n',\n",
       "       '[\"computer vision\", \"mail-in ballot processing\", \"counting\", \"centralized trust\", \"postal voting\", \"DVote\", \"decentralized trust\", \"blockchain\", \"layer-2 technologies\", \"scrutineers\", \"AnyTrust assumption\", \"honest\", \"computational integrity\", \"trustworthiness\", \"large public blockchain\", \"Ethereum\"]\\n\\n',\n",
       "       '[\"Physical signature verification\", \"absentee ballots\", \"2018 midterm elections\", \"United States\", \"Georgia\", \"Florida\", \"Arizona\", \"close election margins\", \"vote-by-mail\", \"signature verification\", \"inexact science\", \"guidelines\", \"jurisdiction\", \"cryptographic remedy\", \"secure\", \"election infrastructure\"]\\n\\n'],\n",
       "      dtype='<U570')"
      ]
     },
     "execution_count": 50,
     "metadata": {},
     "output_type": "execute_result"
    }
   ],
   "source": [
    "a"
   ]
  },
  {
   "cell_type": "markdown",
   "id": "9f717d54-4d41-4a5f-a1d0-e3f1792eda69",
   "metadata": {},
   "source": [
    "## Designing standard questions from ChatGPT and putting them in our main dataframe  "
   ]
  },
  {
   "cell_type": "code",
   "execution_count": null,
   "id": "e71ed361-2544-427a-a280-d4f1150a1a6e",
   "metadata": {},
   "outputs": [],
   "source": []
  }
 ],
 "metadata": {
  "kernelspec": {
   "display_name": "Python 3 (ipykernel)",
   "language": "python",
   "name": "python3"
  },
  "language_info": {
   "codemirror_mode": {
    "name": "ipython",
    "version": 3
   },
   "file_extension": ".py",
   "mimetype": "text/x-python",
   "name": "python",
   "nbconvert_exporter": "python",
   "pygments_lexer": "ipython3",
   "version": "3.9.7"
  }
 },
 "nbformat": 4,
 "nbformat_minor": 5
}
