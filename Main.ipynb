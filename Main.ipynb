{
 "cells": [
  {
   "cell_type": "markdown",
   "id": "f1f8e265-9348-4ba0-9168-cadcacaf4609",
   "metadata": {},
   "source": [
    "# Adding More Context Using Generative Pre-Trained Model"
   ]
  },
  {
   "cell_type": "markdown",
   "id": "2737bba2-e841-4b5e-be4a-dc6675eebef0",
   "metadata": {},
   "source": [
    "## Load The Whole Dataset"
   ]
  },
  {
   "cell_type": "code",
   "execution_count": 3,
   "id": "46b4db22-1eb7-47b0-aad8-faf765a2fd54",
   "metadata": {},
   "outputs": [],
   "source": [
    "import pandas as pd"
   ]
  },
  {
   "cell_type": "code",
   "execution_count": 4,
   "id": "8007d52b-ff6a-42de-bf6a-dabb8e356ce4",
   "metadata": {},
   "outputs": [
    {
     "data": {
      "text/html": [
       "<div>\n",
       "<style scoped>\n",
       "    .dataframe tbody tr th:only-of-type {\n",
       "        vertical-align: middle;\n",
       "    }\n",
       "\n",
       "    .dataframe tbody tr th {\n",
       "        vertical-align: top;\n",
       "    }\n",
       "\n",
       "    .dataframe thead th {\n",
       "        text-align: right;\n",
       "    }\n",
       "</style>\n",
       "<table border=\"1\" class=\"dataframe\">\n",
       "  <thead>\n",
       "    <tr style=\"text-align: right;\">\n",
       "      <th></th>\n",
       "      <th>Title</th>\n",
       "      <th>Summary</th>\n",
       "      <th>DOI</th>\n",
       "      <th>Categories</th>\n",
       "      <th>Publish Time</th>\n",
       "      <th>Authors</th>\n",
       "      <th>Journal</th>\n",
       "    </tr>\n",
       "  </thead>\n",
       "  <tbody>\n",
       "    <tr>\n",
       "      <th>0</th>\n",
       "      <td>PROVIDENCE: a Flexible Round-by-Round Risk-Lim...</td>\n",
       "      <td>A Risk-Limiting Audit (RLA) is a statistical e...</td>\n",
       "      <td>2210.08717v1</td>\n",
       "      <td>cs.CR</td>\n",
       "      <td>2022-10-17 03:14:46+00:00</td>\n",
       "      <td>[arxiv.Result.Author('Oliver Broadrick'), arxi...</td>\n",
       "      <td>NaN</td>\n",
       "    </tr>\n",
       "    <tr>\n",
       "      <th>1</th>\n",
       "      <td>Non(c)esuch Ballot-Level Risk-Limiting Audits ...</td>\n",
       "      <td>Risk-limiting audits (RLAs) guarantee a high p...</td>\n",
       "      <td>2207.01362v1</td>\n",
       "      <td>cs.CR</td>\n",
       "      <td>2022-07-04 12:35:42+00:00</td>\n",
       "      <td>[arxiv.Result.Author('Philip B. Stark')]</td>\n",
       "      <td>NaN</td>\n",
       "    </tr>\n",
       "    <tr>\n",
       "      <th>2</th>\n",
       "      <td>Conservative statistical post-election audits</td>\n",
       "      <td>There are many sources of error in counting vo...</td>\n",
       "      <td>0807.4005v1</td>\n",
       "      <td>stat.AP</td>\n",
       "      <td>2008-07-25 06:54:40+00:00</td>\n",
       "      <td>[arxiv.Result.Author('Philip B. Stark')]</td>\n",
       "      <td>Annals of Applied Statistics 2008, Vol. 2, No....</td>\n",
       "    </tr>\n",
       "    <tr>\n",
       "      <th>3</th>\n",
       "      <td>Decentralized Verifiable Mail-in Ballot Counti...</td>\n",
       "      <td>As computer vision is prevalently used for mai...</td>\n",
       "      <td>2202.09122v1</td>\n",
       "      <td>cs.CR</td>\n",
       "      <td>2022-02-18 11:00:10+00:00</td>\n",
       "      <td>[arxiv.Result.Author('Peichen Xie'), arxiv.Res...</td>\n",
       "      <td>NaN</td>\n",
       "    </tr>\n",
       "    <tr>\n",
       "      <th>4</th>\n",
       "      <td>Physical Cryptographic Signatures for Absentee...</td>\n",
       "      <td>Physical signature verification on absentee ba...</td>\n",
       "      <td>1812.09423v1</td>\n",
       "      <td>cs.CR</td>\n",
       "      <td>2018-12-22 00:43:31+00:00</td>\n",
       "      <td>[arxiv.Result.Author('Matthew Bernhard')]</td>\n",
       "      <td>NaN</td>\n",
       "    </tr>\n",
       "  </tbody>\n",
       "</table>\n",
       "</div>"
      ],
      "text/plain": [
       "                                               Title  \\\n",
       "0  PROVIDENCE: a Flexible Round-by-Round Risk-Lim...   \n",
       "1  Non(c)esuch Ballot-Level Risk-Limiting Audits ...   \n",
       "2      Conservative statistical post-election audits   \n",
       "3  Decentralized Verifiable Mail-in Ballot Counti...   \n",
       "4  Physical Cryptographic Signatures for Absentee...   \n",
       "\n",
       "                                             Summary           DOI Categories  \\\n",
       "0  A Risk-Limiting Audit (RLA) is a statistical e...  2210.08717v1      cs.CR   \n",
       "1  Risk-limiting audits (RLAs) guarantee a high p...  2207.01362v1      cs.CR   \n",
       "2  There are many sources of error in counting vo...   0807.4005v1    stat.AP   \n",
       "3  As computer vision is prevalently used for mai...  2202.09122v1      cs.CR   \n",
       "4  Physical signature verification on absentee ba...  1812.09423v1      cs.CR   \n",
       "\n",
       "                Publish Time  \\\n",
       "0  2022-10-17 03:14:46+00:00   \n",
       "1  2022-07-04 12:35:42+00:00   \n",
       "2  2008-07-25 06:54:40+00:00   \n",
       "3  2022-02-18 11:00:10+00:00   \n",
       "4  2018-12-22 00:43:31+00:00   \n",
       "\n",
       "                                             Authors  \\\n",
       "0  [arxiv.Result.Author('Oliver Broadrick'), arxi...   \n",
       "1           [arxiv.Result.Author('Philip B. Stark')]   \n",
       "2           [arxiv.Result.Author('Philip B. Stark')]   \n",
       "3  [arxiv.Result.Author('Peichen Xie'), arxiv.Res...   \n",
       "4          [arxiv.Result.Author('Matthew Bernhard')]   \n",
       "\n",
       "                                             Journal  \n",
       "0                                                NaN  \n",
       "1                                                NaN  \n",
       "2  Annals of Applied Statistics 2008, Vol. 2, No....  \n",
       "3                                                NaN  \n",
       "4                                                NaN  "
      ]
     },
     "execution_count": 4,
     "metadata": {},
     "output_type": "execute_result"
    }
   ],
   "source": [
    "df = pd.read_csv('DataCollection/DB.csv')\n",
    "df.head()"
   ]
  },
  {
   "cell_type": "code",
   "execution_count": 5,
   "id": "cf3f2d79-7d8e-4e7d-b93d-18f968e729c1",
   "metadata": {},
   "outputs": [
    {
     "data": {
      "text/html": [
       "<div>\n",
       "<style scoped>\n",
       "    .dataframe tbody tr th:only-of-type {\n",
       "        vertical-align: middle;\n",
       "    }\n",
       "\n",
       "    .dataframe tbody tr th {\n",
       "        vertical-align: top;\n",
       "    }\n",
       "\n",
       "    .dataframe thead th {\n",
       "        text-align: right;\n",
       "    }\n",
       "</style>\n",
       "<table border=\"1\" class=\"dataframe\">\n",
       "  <thead>\n",
       "    <tr style=\"text-align: right;\">\n",
       "      <th></th>\n",
       "      <th>Title</th>\n",
       "      <th>Summary</th>\n",
       "      <th>DOI</th>\n",
       "      <th>Categories</th>\n",
       "      <th>Publish Time</th>\n",
       "      <th>Authors</th>\n",
       "      <th>Journal</th>\n",
       "    </tr>\n",
       "  </thead>\n",
       "  <tbody>\n",
       "    <tr>\n",
       "      <th>0</th>\n",
       "      <td>PROVIDENCE: a Flexible Round-by-Round Risk-Lim...</td>\n",
       "      <td>A Risk-Limiting Audit (RLA) is a statistical e...</td>\n",
       "      <td>2210.08717v1</td>\n",
       "      <td>cs.CR</td>\n",
       "      <td>2022-10-17 03:14:46+00:00</td>\n",
       "      <td>[arxiv.Result.Author('Oliver Broadrick'), arxi...</td>\n",
       "      <td>NaN</td>\n",
       "    </tr>\n",
       "    <tr>\n",
       "      <th>1</th>\n",
       "      <td>Non(c)esuch Ballot-Level Risk-Limiting Audits ...</td>\n",
       "      <td>Risk-limiting audits (RLAs) guarantee a high p...</td>\n",
       "      <td>2207.01362v1</td>\n",
       "      <td>cs.CR</td>\n",
       "      <td>2022-07-04 12:35:42+00:00</td>\n",
       "      <td>[arxiv.Result.Author('Philip B. Stark')]</td>\n",
       "      <td>NaN</td>\n",
       "    </tr>\n",
       "    <tr>\n",
       "      <th>2</th>\n",
       "      <td>Conservative statistical post-election audits</td>\n",
       "      <td>There are many sources of error in counting vo...</td>\n",
       "      <td>0807.4005v1</td>\n",
       "      <td>stat.AP</td>\n",
       "      <td>2008-07-25 06:54:40+00:00</td>\n",
       "      <td>[arxiv.Result.Author('Philip B. Stark')]</td>\n",
       "      <td>Annals of Applied Statistics 2008, Vol. 2, No....</td>\n",
       "    </tr>\n",
       "    <tr>\n",
       "      <th>3</th>\n",
       "      <td>Decentralized Verifiable Mail-in Ballot Counti...</td>\n",
       "      <td>As computer vision is prevalently used for mai...</td>\n",
       "      <td>2202.09122v1</td>\n",
       "      <td>cs.CR</td>\n",
       "      <td>2022-02-18 11:00:10+00:00</td>\n",
       "      <td>[arxiv.Result.Author('Peichen Xie'), arxiv.Res...</td>\n",
       "      <td>NaN</td>\n",
       "    </tr>\n",
       "    <tr>\n",
       "      <th>4</th>\n",
       "      <td>Physical Cryptographic Signatures for Absentee...</td>\n",
       "      <td>Physical signature verification on absentee ba...</td>\n",
       "      <td>1812.09423v1</td>\n",
       "      <td>cs.CR</td>\n",
       "      <td>2018-12-22 00:43:31+00:00</td>\n",
       "      <td>[arxiv.Result.Author('Matthew Bernhard')]</td>\n",
       "      <td>NaN</td>\n",
       "    </tr>\n",
       "    <tr>\n",
       "      <th>...</th>\n",
       "      <td>...</td>\n",
       "      <td>...</td>\n",
       "      <td>...</td>\n",
       "      <td>...</td>\n",
       "      <td>...</td>\n",
       "      <td>...</td>\n",
       "      <td>...</td>\n",
       "    </tr>\n",
       "    <tr>\n",
       "      <th>124388</th>\n",
       "      <td>A new statistic on Dyck paths for counting 3-d...</td>\n",
       "      <td>A 3-dimensional Catalan word is a word on thre...</td>\n",
       "      <td>2205.09686v1</td>\n",
       "      <td>math.CO</td>\n",
       "      <td>2022-05-19 16:47:23+00:00</td>\n",
       "      <td>[arxiv.Result.Author('Kassie Archer'), arxiv.R...</td>\n",
       "      <td>NaN</td>\n",
       "    </tr>\n",
       "    <tr>\n",
       "      <th>124389</th>\n",
       "      <td>Security Requirement Analysis of Blockchain-ba...</td>\n",
       "      <td>In democratic countries such as India, voting ...</td>\n",
       "      <td>2208.01277v1</td>\n",
       "      <td>cs.CR</td>\n",
       "      <td>2022-08-02 06:55:25+00:00</td>\n",
       "      <td>[arxiv.Result.Author('Sanil S. Gandhi'), arxiv...</td>\n",
       "      <td>NaN</td>\n",
       "    </tr>\n",
       "    <tr>\n",
       "      <th>124390</th>\n",
       "      <td>Pandora's Ballot Box: Electoral Politics of Di...</td>\n",
       "      <td>We study how office-seeking parties use direct...</td>\n",
       "      <td>2208.05535v1</td>\n",
       "      <td>econ.TH</td>\n",
       "      <td>2022-08-10 19:43:10+00:00</td>\n",
       "      <td>[arxiv.Result.Author('Peter Buisseret'), arxiv...</td>\n",
       "      <td>NaN</td>\n",
       "    </tr>\n",
       "    <tr>\n",
       "      <th>124391</th>\n",
       "      <td>Asymptotic approximations for stationary distr...</td>\n",
       "      <td>A many-server queueing system is considered in...</td>\n",
       "      <td>1003.3373v2</td>\n",
       "      <td>math.PR</td>\n",
       "      <td>2010-03-17 14:16:03+00:00</td>\n",
       "      <td>[arxiv.Result.Author('Weining Kang'), arxiv.Re...</td>\n",
       "      <td>Annals of Applied Probability 2012, Vol. 22, N...</td>\n",
       "    </tr>\n",
       "    <tr>\n",
       "      <th>124392</th>\n",
       "      <td>Fluid Limits for Overloaded Multiclass FIFO Si...</td>\n",
       "      <td>We consider an overloaded multiclass nonidling...</td>\n",
       "      <td>1210.0959v2</td>\n",
       "      <td>math.PR</td>\n",
       "      <td>2012-10-03 02:04:35+00:00</td>\n",
       "      <td>[arxiv.Result.Author('Otis B. Jennings'), arxi...</td>\n",
       "      <td>Stochastic Systems, 2013, Vol. 3, No. 1, 262-321</td>\n",
       "    </tr>\n",
       "  </tbody>\n",
       "</table>\n",
       "<p>124393 rows × 7 columns</p>\n",
       "</div>"
      ],
      "text/plain": [
       "                                                    Title  \\\n",
       "0       PROVIDENCE: a Flexible Round-by-Round Risk-Lim...   \n",
       "1       Non(c)esuch Ballot-Level Risk-Limiting Audits ...   \n",
       "2           Conservative statistical post-election audits   \n",
       "3       Decentralized Verifiable Mail-in Ballot Counti...   \n",
       "4       Physical Cryptographic Signatures for Absentee...   \n",
       "...                                                   ...   \n",
       "124388  A new statistic on Dyck paths for counting 3-d...   \n",
       "124389  Security Requirement Analysis of Blockchain-ba...   \n",
       "124390  Pandora's Ballot Box: Electoral Politics of Di...   \n",
       "124391  Asymptotic approximations for stationary distr...   \n",
       "124392  Fluid Limits for Overloaded Multiclass FIFO Si...   \n",
       "\n",
       "                                                  Summary           DOI  \\\n",
       "0       A Risk-Limiting Audit (RLA) is a statistical e...  2210.08717v1   \n",
       "1       Risk-limiting audits (RLAs) guarantee a high p...  2207.01362v1   \n",
       "2       There are many sources of error in counting vo...   0807.4005v1   \n",
       "3       As computer vision is prevalently used for mai...  2202.09122v1   \n",
       "4       Physical signature verification on absentee ba...  1812.09423v1   \n",
       "...                                                   ...           ...   \n",
       "124388  A 3-dimensional Catalan word is a word on thre...  2205.09686v1   \n",
       "124389  In democratic countries such as India, voting ...  2208.01277v1   \n",
       "124390  We study how office-seeking parties use direct...  2208.05535v1   \n",
       "124391  A many-server queueing system is considered in...   1003.3373v2   \n",
       "124392  We consider an overloaded multiclass nonidling...   1210.0959v2   \n",
       "\n",
       "       Categories               Publish Time  \\\n",
       "0           cs.CR  2022-10-17 03:14:46+00:00   \n",
       "1           cs.CR  2022-07-04 12:35:42+00:00   \n",
       "2         stat.AP  2008-07-25 06:54:40+00:00   \n",
       "3           cs.CR  2022-02-18 11:00:10+00:00   \n",
       "4           cs.CR  2018-12-22 00:43:31+00:00   \n",
       "...           ...                        ...   \n",
       "124388    math.CO  2022-05-19 16:47:23+00:00   \n",
       "124389      cs.CR  2022-08-02 06:55:25+00:00   \n",
       "124390    econ.TH  2022-08-10 19:43:10+00:00   \n",
       "124391    math.PR  2010-03-17 14:16:03+00:00   \n",
       "124392    math.PR  2012-10-03 02:04:35+00:00   \n",
       "\n",
       "                                                  Authors  \\\n",
       "0       [arxiv.Result.Author('Oliver Broadrick'), arxi...   \n",
       "1                [arxiv.Result.Author('Philip B. Stark')]   \n",
       "2                [arxiv.Result.Author('Philip B. Stark')]   \n",
       "3       [arxiv.Result.Author('Peichen Xie'), arxiv.Res...   \n",
       "4               [arxiv.Result.Author('Matthew Bernhard')]   \n",
       "...                                                   ...   \n",
       "124388  [arxiv.Result.Author('Kassie Archer'), arxiv.R...   \n",
       "124389  [arxiv.Result.Author('Sanil S. Gandhi'), arxiv...   \n",
       "124390  [arxiv.Result.Author('Peter Buisseret'), arxiv...   \n",
       "124391  [arxiv.Result.Author('Weining Kang'), arxiv.Re...   \n",
       "124392  [arxiv.Result.Author('Otis B. Jennings'), arxi...   \n",
       "\n",
       "                                                  Journal  \n",
       "0                                                     NaN  \n",
       "1                                                     NaN  \n",
       "2       Annals of Applied Statistics 2008, Vol. 2, No....  \n",
       "3                                                     NaN  \n",
       "4                                                     NaN  \n",
       "...                                                   ...  \n",
       "124388                                                NaN  \n",
       "124389                                                NaN  \n",
       "124390                                                NaN  \n",
       "124391  Annals of Applied Probability 2012, Vol. 22, N...  \n",
       "124392   Stochastic Systems, 2013, Vol. 3, No. 1, 262-321  \n",
       "\n",
       "[124393 rows x 7 columns]"
      ]
     },
     "execution_count": 5,
     "metadata": {},
     "output_type": "execute_result"
    }
   ],
   "source": [
    "df"
   ]
  },
  {
   "cell_type": "code",
   "execution_count": 44,
   "id": "366366d8-09d2-4e45-a7af-16a5e6b9d555",
   "metadata": {},
   "outputs": [
    {
     "data": {
      "text/plain": [
       "'PROVIDENCE: a Flexible Round-by-Round Risk-Limiting Audit'"
      ]
     },
     "execution_count": 44,
     "metadata": {},
     "output_type": "execute_result"
    }
   ],
   "source": [
    "df.iloc[0]['Title']"
   ]
  },
  {
   "cell_type": "code",
   "execution_count": 45,
   "id": "416ec909-76f4-4551-b448-bf6f0c2049eb",
   "metadata": {},
   "outputs": [
    {
     "data": {
      "text/plain": [
       "'A Risk-Limiting Audit (RLA) is a statistical election tabulation audit with a\\nrigorous error guarantee. We present ballot polling RLA PROVIDENCE, an audit\\nwith the efficiency of MINERVA and flexibility of BRAVO. We prove that\\nPROVIDENCE is risk-limiting in the presence of an adversary who can choose\\nsubsequent round sizes given knowledge of previous samples. We describe a\\nmeasure of audit workload as a function of the number of rounds, precincts\\ntouched, and ballots drawn.We quantify the problem of obtaining a misleading\\naudit sample when rounds are too small, demonstrating the importance of the\\nresulting constraint on audit planning. We present simulation results\\ndemonstrating the superiority of PROVIDENCE using these measures and describing\\nan approach to planning audit round schedules.\\n  We describe the use of PROVIDENCE by the Rhode Island Board of Elections in a\\ntabulation audit of the 2021 election. Our implementation of PROVIDENCE and\\naudit planning tools in the open source R2B2 library should be useful to the\\nstates of Georgia and Pennsylvania, which are planning pre-certification ballot\\npolling RLAs for the 2022 general election.'"
      ]
     },
     "execution_count": 45,
     "metadata": {},
     "output_type": "execute_result"
    }
   ],
   "source": [
    "df.iloc[0]['Summary']"
   ]
  },
  {
   "cell_type": "code",
   "execution_count": 49,
   "id": "ca332a04-0ce9-45d7-ba61-5bd0070b2e72",
   "metadata": {},
   "outputs": [
    {
     "name": "stderr",
     "output_type": "stream",
     "text": [
      "WARNING:urllib3.connectionpool:Connection pool is full, discarding connection: localhost. Connection pool size: 1\n",
      "WARNING:urllib3.connectionpool:Connection pool is full, discarding connection: localhost. Connection pool size: 1\n",
      "WARNING:urllib3.connectionpool:Retrying (Retry(total=2, connect=None, read=None, redirect=None, status=None)) after connection broken by 'NewConnectionError('<urllib3.connection.HTTPConnection object at 0x7f0843703fa0>: Failed to establish a new connection: [Errno 111] Connection refused')': /session/5ddef27bd23c2a8924cc6ac720d3e993/se/log\n",
      "WARNING:urllib3.connectionpool:Retrying (Retry(total=1, connect=None, read=None, redirect=None, status=None)) after connection broken by 'NewConnectionError('<urllib3.connection.HTTPConnection object at 0x7f0843701af0>: Failed to establish a new connection: [Errno 111] Connection refused')': /session/5ddef27bd23c2a8924cc6ac720d3e993/se/log\n",
      "WARNING:urllib3.connectionpool:Retrying (Retry(total=0, connect=None, read=None, redirect=None, status=None)) after connection broken by 'NewConnectionError('<urllib3.connection.HTTPConnection object at 0x7f08437013a0>: Failed to establish a new connection: [Errno 111] Connection refused')': /session/5ddef27bd23c2a8924cc6ac720d3e993/se/log\n",
      "WARNING:urllib3.connectionpool:Connection pool is full, discarding connection: localhost. Connection pool size: 1\n",
      "WARNING:urllib3.connectionpool:Connection pool is full, discarding connection: localhost. Connection pool size: 1\n"
     ]
    },
    {
     "name": "stdout",
     "output_type": "stream",
     "text": [
      "['[\"Risk-Limiting Audit\", \"PROVIDENCE\", \"MINERVA\", \"BRAVO\", \"adversary\", \"audit workload\", \"misleading audit sample\", \"Rhode Island Board of Elections\", \"2021 election\", \"R2B2 library\", \"Georgia\", \"Pennsylvania\", \"pre-certification ballot polling RLAs\", \"2022 general election\"]\\n\\n'\n",
      " '[\"Risk-limiting audits\", \"incorrect reported outcomes\", \"certified\", \"ballot-level comparison\", \"voting system\", \"cast-vote records\", \"trustworthy paper trail\", \"human interpretation\", \"precinct-count systems\", \"vote anonymity\", \"unique serial number\", \"precinct-count systems\", \"cryptographic nonce\", \"unique pseudo-random number\", \"vote anonymity\", \"unique number\", \"ballot\", \"misreported numbers\", \"Risk limit\", \"anonymity of votes\", \"untrusted technology\", \"adaptive\", \"imprinting\", \"retrieval system\", \"sample size\", \"reported results\", \"imprinting\", \"retrieval\"]\\n\\n'\n",
      " '[\"counting votes\", \"apparent winner\", \"rightful winner\", \"manual recount\", \"sequential test\", \"vote-counting errors\", \"random sample of precincts\", \"natural escalation\", \"overstatement of margin\", \"reported counts\", \"upper bounds\", \"voting technology\", \"precinct sizes\", \"optimal\", \"conservative\", \"nominal significance level\", \"P-value\", \"hypothesis\", \"full manual recount\", \"errors\", \"U.S. Senate race\", \"Minnesota\", \"school board race\", \"Sausalito Marin City School District\", \"California\", \"small contest\", \"voters\", \"up to three candidates\"]\\n\\n'\n",
      " '[\"computer vision\", \"mail-in ballot processing\", \"counting\", \"centralized trust\", \"postal voting\", \"DVote\", \"decentralized trust\", \"blockchain\", \"layer-2 technologies\", \"scrutineers\", \"AnyTrust assumption\", \"honest\", \"computational integrity\", \"trustworthiness\", \"large public blockchain\", \"Ethereum\"]\\n\\n'\n",
      " '[\"Physical signature verification\", \"absentee ballots\", \"2018 midterm elections\", \"United States\", \"Georgia\", \"Florida\", \"Arizona\", \"close election margins\", \"vote-by-mail\", \"signature verification\", \"inexact science\", \"guidelines\", \"jurisdiction\", \"cryptographic remedy\", \"secure\", \"election infrastructure\"]\\n\\n']\n"
     ]
    }
   ],
   "source": [
    "#pip install pyChatGPT\n",
    "import numpy as np\n",
    "from pyChatGPT import ChatGPT\n",
    "session_token = 'eyJhbGciOiJkaXIiLCJlbmMiOiJBMjU2R0NNIn0..N-LTxzIDgFkjipOO.3a3LbsF97HBvq-PqhnfOT0oDiD8RzuM6EFaEuDhqGs98HiqsWXFcgE5YtZwMXJKiaYP0QGM9AnLX396X4FHYgBo4YjysfhwZdGnp7TzznWKu3Y6vNN1CQbeCiVNLzfFoaAq_-MKo2KUZGnM-QIojQAH-G60QJcnNxx32kBwvin6tn7kWOGOEzaaADZIkQ9AwBKVZG_43rLNBv3GxbIyjBWicLI1RSakpyQvyccxfryBwiEbm2nw2Z2I5azvsnPrAiHXeN7YONvVDXsvoXYPVQ5RgdMjArmtCdGOkW9JrgCIbhFLP6n6Ci8yu8M5VnkePbFbXwCdn7gcCQj24ZirpRr6Dpx4Es_MLzt_l2wfnaYZHo_PaMeGbZl9Jc0BxphT0zA0LXpykEInxiDYuiYExE7eYQslZAZIwtpJ6lP5NVuvMtixu2ONrntj8JFgLU5HfMlRtXJ7cvGr_1SSm-7qlnzzqpUtWNxVOoBGXjR2uETyxpy9aUXbA6OFAfW84x51gV1Er5MFSjswTe7RDqUBLpfSOMmVj0zlz3uJTaLJQh_poK-XRUIhcF8wPQ2YdR4IwOQx-N5SG32T2iybYHCC84713aM8HyTGc3v-0ejajpULN5yeMj5CY339JtJaQvYlWYuEkazQkUd8yJajmj-NSxn4yeSkfom2oDIH50WE7VrLO0DeJCPGreIk97VB7_nCmn0Nj1Z6f7Fu5oViKEhpLdaF_UgFBZAnStZebyemr6V86KRUY0Ec6C-dbIMJOsyDjFdVgXFh3trncGNARtJGbsyem7BcdK6L77NrtHT2PmkbtqiI51BlEEGYmlOqN2eBWuqpUxGWCa9COhiWjVjXCGexAuKfyrwmyjPJIOa3BPfhZ5vnlt6KMiONEpVDqgtGSILUkbsLQeJzlZLu8NUDcyEnKFM3GNl7Vk6_pOYSOQ_daXhOQIIesiXE8g-r_K5el63bRuUhg5kJ8gbDQ5RTlq3NOxH1LD_BiggwIvgKh00IlgsFKXjpRkrf-HnGBx1nrTi_ij2-kOzXINpVG128L6OaTl4XAF3arAOu3s_nfXKQyDKRrpLEUcrBYA5INFV1pjBoRPeybb6Dr5pVr8Ry734QL5NXO8SV_lLJZvf5su8MsXCWEW7BDGOCrqsHRK9wky4Jr3Ej20YkuQJ76nX71skUUc6_OGxSB6BR_3KKl3RyGEKF7GzxNcC4yKE4BcmF66n4rFdyKghbTfc3T0EcIBt0E8TwAMywVWCx9Efe0IYc2luVe8nRwtjt4NrCaxTBEu-LzCAAKicxjeTmTMGet-tAQlYqRGlHLSSqEfR-gXlvnV-pYp1Y7UD8zS_YEnMo7daq-qXEReiXRsMwhquv6lXZnwI5AIvS8qEcT79mtYPdBlgDtYxi_23m5YqQdobwdSRwjEj5KF-UhNvD1-0plWAT0DNABEiKOaZESIbmUzfFySfQ68XwlcqScC2tms5kv0C8cAZI0PRCMcuwYKtuIU4QndtJN0vJGcDU_gCGUZp6kzCk-AxuLvLiCUGm-V3ARYGaQgQN0jJI3fsrlB7d-secywfeL764CRiGdWFfWaujEo_Sg_Bjvdj8PvWIPR84vXhXm-mFw9SgJv3B-BPQ1BjEStsS1Ouz8wUIObqE6Ei1YOpA7JVYa8USSAfG1Tc8hfg8FwbfFvZSKXUS4TFOlkjpuuUfSZswDXQYc2imJ3sHembBk0LlBO_DFSibPKesqJoPOtVchb9q21oYZ_vArRQwXSfKfWryxdOv6FQAL7DuLYcZoS6sinvt6q0Ae3J3W-Bxpnb6CxGN82P7xQ7_axY-tskVHqeiKswUBnhFb0FxyHnSJEqs-0UnUC9QG4bwXHm-2J4zMGSWRzzt4tNUuPyjNLaCwDR0s87TgumqD14VMGTj0Tq2VSds8oNyHpGQCOhCzloPQtRe-mZcnvB8sIu5JjxcGZnqi1F_OwPpmGuxZfQYjdY8-T0xHOe9B5ckbrG3AhWkKgalM6jdAyxuejK-X1_HRcrtQmWpRS11qYL_mkDDJxarSmE9PHPJr2PZrJTQuwQ4LFQw1NCvioY5vD6MgcWKwZ3SGGPY8UsCb6wJdKCd9D5EfZkc0TECM2u9tSGgwG0-XxwPP2YvuQ1_qPGT-cRWb2y1cSDvx0360Zrp9B3vOZW9z5yxNFYJXLOsGvEL8zHuIAfIutT-XPBpuW2vaPtwuyzUwL5JgCciH1_Obaqvp2Fv8YXv2DkFxCYvQ2ROJV17tJyKsrt0LtPyEwX_EaqDf20_3oXyLYQBQtdIauRKuzD6_7yQMW8pRHT5r4cmC19oAmXS45rpnk6sr966OOG5p9oj_NggJRjGASUuZgdBJiFmADsWQLHSTEE-anzjyPsLb.aqE1cOBRiIBKv9QIZpiMHQ'  # `__Secure-next-auth.session-token` cookie from https://chat.openai.com/chat\n",
    "api = ChatGPT(session_token)  # auth with session token\n",
    "\n",
    "a = np.array([])\n",
    "for i in range(5):\n",
    "    resp = api.send_message('Return the topic of this summary as a list in python:\\n' + df.iloc[i]['Summary'] )\n",
    "    a = np.append(a, resp['message'])\n",
    "print(a)"
   ]
  },
  {
   "cell_type": "code",
   "execution_count": 50,
   "id": "1fa1108f-d46a-489c-afc9-a452f45c8874",
   "metadata": {
    "tags": []
   },
   "outputs": [
    {
     "data": {
      "text/plain": [
       "array(['[\"Risk-Limiting Audit\", \"PROVIDENCE\", \"MINERVA\", \"BRAVO\", \"adversary\", \"audit workload\", \"misleading audit sample\", \"Rhode Island Board of Elections\", \"2021 election\", \"R2B2 library\", \"Georgia\", \"Pennsylvania\", \"pre-certification ballot polling RLAs\", \"2022 general election\"]\\n\\n',\n",
       "       '[\"Risk-limiting audits\", \"incorrect reported outcomes\", \"certified\", \"ballot-level comparison\", \"voting system\", \"cast-vote records\", \"trustworthy paper trail\", \"human interpretation\", \"precinct-count systems\", \"vote anonymity\", \"unique serial number\", \"precinct-count systems\", \"cryptographic nonce\", \"unique pseudo-random number\", \"vote anonymity\", \"unique number\", \"ballot\", \"misreported numbers\", \"Risk limit\", \"anonymity of votes\", \"untrusted technology\", \"adaptive\", \"imprinting\", \"retrieval system\", \"sample size\", \"reported results\", \"imprinting\", \"retrieval\"]\\n\\n',\n",
       "       '[\"counting votes\", \"apparent winner\", \"rightful winner\", \"manual recount\", \"sequential test\", \"vote-counting errors\", \"random sample of precincts\", \"natural escalation\", \"overstatement of margin\", \"reported counts\", \"upper bounds\", \"voting technology\", \"precinct sizes\", \"optimal\", \"conservative\", \"nominal significance level\", \"P-value\", \"hypothesis\", \"full manual recount\", \"errors\", \"U.S. Senate race\", \"Minnesota\", \"school board race\", \"Sausalito Marin City School District\", \"California\", \"small contest\", \"voters\", \"up to three candidates\"]\\n\\n',\n",
       "       '[\"computer vision\", \"mail-in ballot processing\", \"counting\", \"centralized trust\", \"postal voting\", \"DVote\", \"decentralized trust\", \"blockchain\", \"layer-2 technologies\", \"scrutineers\", \"AnyTrust assumption\", \"honest\", \"computational integrity\", \"trustworthiness\", \"large public blockchain\", \"Ethereum\"]\\n\\n',\n",
       "       '[\"Physical signature verification\", \"absentee ballots\", \"2018 midterm elections\", \"United States\", \"Georgia\", \"Florida\", \"Arizona\", \"close election margins\", \"vote-by-mail\", \"signature verification\", \"inexact science\", \"guidelines\", \"jurisdiction\", \"cryptographic remedy\", \"secure\", \"election infrastructure\"]\\n\\n'],\n",
       "      dtype='<U570')"
      ]
     },
     "execution_count": 50,
     "metadata": {},
     "output_type": "execute_result"
    }
   ],
   "source": [
    "a"
   ]
  },
  {
   "cell_type": "markdown",
   "id": "9f717d54-4d41-4a5f-a1d0-e3f1792eda69",
   "metadata": {},
   "source": [
    "## Designing standard questions from ChatGPT and putting them in our main dataframe  "
   ]
  },
  {
   "cell_type": "code",
   "execution_count": null,
   "id": "e71ed361-2544-427a-a280-d4f1150a1a6e",
   "metadata": {},
   "outputs": [],
   "source": []
  }
 ],
 "metadata": {
  "kernelspec": {
   "display_name": "Python 3 (ipykernel)",
   "language": "python",
   "name": "python3"
  },
  "language_info": {
   "codemirror_mode": {
    "name": "ipython",
    "version": 3
   },
   "file_extension": ".py",
   "mimetype": "text/x-python",
   "name": "python",
   "nbconvert_exporter": "python",
   "pygments_lexer": "ipython3",
   "version": "3.9.7"
  }
 },
 "nbformat": 4,
 "nbformat_minor": 5
}
