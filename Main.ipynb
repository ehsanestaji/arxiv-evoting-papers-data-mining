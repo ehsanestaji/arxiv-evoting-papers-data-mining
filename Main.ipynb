{
 "cells": [
  {
   "cell_type": "markdown",
   "id": "f1f8e265-9348-4ba0-9168-cadcacaf4609",
   "metadata": {},
   "source": [
    "# Adding More Context Using Generative Pre-Trained Model"
   ]
  },
  {
   "cell_type": "markdown",
   "id": "2737bba2-e841-4b5e-be4a-dc6675eebef0",
   "metadata": {},
   "source": [
    "## Load The Whole Dataset"
   ]
  },
  {
   "cell_type": "code",
   "execution_count": 2,
   "id": "46b4db22-1eb7-47b0-aad8-faf765a2fd54",
   "metadata": {},
   "outputs": [
    {
     "data": {
      "text/html": [
       "<div>\n",
       "<style scoped>\n",
       "    .dataframe tbody tr th:only-of-type {\n",
       "        vertical-align: middle;\n",
       "    }\n",
       "\n",
       "    .dataframe tbody tr th {\n",
       "        vertical-align: top;\n",
       "    }\n",
       "\n",
       "    .dataframe thead th {\n",
       "        text-align: right;\n",
       "    }\n",
       "</style>\n",
       "<table border=\"1\" class=\"dataframe\">\n",
       "  <thead>\n",
       "    <tr style=\"text-align: right;\">\n",
       "      <th></th>\n",
       "      <th>Title</th>\n",
       "      <th>Summary</th>\n",
       "      <th>DOI</th>\n",
       "      <th>Categories</th>\n",
       "      <th>Publish Time</th>\n",
       "      <th>Authors</th>\n",
       "      <th>Journal</th>\n",
       "    </tr>\n",
       "  </thead>\n",
       "  <tbody>\n",
       "    <tr>\n",
       "      <th>0</th>\n",
       "      <td>PROVIDENCE: a Flexible Round-by-Round Risk-Lim...</td>\n",
       "      <td>A Risk-Limiting Audit (RLA) is a statistical e...</td>\n",
       "      <td>2210.08717v1</td>\n",
       "      <td>cs.CR</td>\n",
       "      <td>2022-10-17 03:14:46+00:00</td>\n",
       "      <td>[arxiv.Result.Author('Oliver Broadrick'), arxi...</td>\n",
       "      <td>NaN</td>\n",
       "    </tr>\n",
       "    <tr>\n",
       "      <th>1</th>\n",
       "      <td>Non(c)esuch Ballot-Level Risk-Limiting Audits ...</td>\n",
       "      <td>Risk-limiting audits (RLAs) guarantee a high p...</td>\n",
       "      <td>2207.01362v1</td>\n",
       "      <td>cs.CR</td>\n",
       "      <td>2022-07-04 12:35:42+00:00</td>\n",
       "      <td>[arxiv.Result.Author('Philip B. Stark')]</td>\n",
       "      <td>NaN</td>\n",
       "    </tr>\n",
       "    <tr>\n",
       "      <th>2</th>\n",
       "      <td>Conservative statistical post-election audits</td>\n",
       "      <td>There are many sources of error in counting vo...</td>\n",
       "      <td>0807.4005v1</td>\n",
       "      <td>stat.AP</td>\n",
       "      <td>2008-07-25 06:54:40+00:00</td>\n",
       "      <td>[arxiv.Result.Author('Philip B. Stark')]</td>\n",
       "      <td>Annals of Applied Statistics 2008, Vol. 2, No....</td>\n",
       "    </tr>\n",
       "    <tr>\n",
       "      <th>3</th>\n",
       "      <td>Decentralized Verifiable Mail-in Ballot Counti...</td>\n",
       "      <td>As computer vision is prevalently used for mai...</td>\n",
       "      <td>2202.09122v1</td>\n",
       "      <td>cs.CR</td>\n",
       "      <td>2022-02-18 11:00:10+00:00</td>\n",
       "      <td>[arxiv.Result.Author('Peichen Xie'), arxiv.Res...</td>\n",
       "      <td>NaN</td>\n",
       "    </tr>\n",
       "    <tr>\n",
       "      <th>4</th>\n",
       "      <td>Physical Cryptographic Signatures for Absentee...</td>\n",
       "      <td>Physical signature verification on absentee ba...</td>\n",
       "      <td>1812.09423v1</td>\n",
       "      <td>cs.CR</td>\n",
       "      <td>2018-12-22 00:43:31+00:00</td>\n",
       "      <td>[arxiv.Result.Author('Matthew Bernhard')]</td>\n",
       "      <td>NaN</td>\n",
       "    </tr>\n",
       "  </tbody>\n",
       "</table>\n",
       "</div>"
      ],
      "text/plain": [
       "                                               Title  \\\n",
       "0  PROVIDENCE: a Flexible Round-by-Round Risk-Lim...   \n",
       "1  Non(c)esuch Ballot-Level Risk-Limiting Audits ...   \n",
       "2      Conservative statistical post-election audits   \n",
       "3  Decentralized Verifiable Mail-in Ballot Counti...   \n",
       "4  Physical Cryptographic Signatures for Absentee...   \n",
       "\n",
       "                                             Summary           DOI Categories  \\\n",
       "0  A Risk-Limiting Audit (RLA) is a statistical e...  2210.08717v1      cs.CR   \n",
       "1  Risk-limiting audits (RLAs) guarantee a high p...  2207.01362v1      cs.CR   \n",
       "2  There are many sources of error in counting vo...   0807.4005v1    stat.AP   \n",
       "3  As computer vision is prevalently used for mai...  2202.09122v1      cs.CR   \n",
       "4  Physical signature verification on absentee ba...  1812.09423v1      cs.CR   \n",
       "\n",
       "                Publish Time  \\\n",
       "0  2022-10-17 03:14:46+00:00   \n",
       "1  2022-07-04 12:35:42+00:00   \n",
       "2  2008-07-25 06:54:40+00:00   \n",
       "3  2022-02-18 11:00:10+00:00   \n",
       "4  2018-12-22 00:43:31+00:00   \n",
       "\n",
       "                                             Authors  \\\n",
       "0  [arxiv.Result.Author('Oliver Broadrick'), arxi...   \n",
       "1           [arxiv.Result.Author('Philip B. Stark')]   \n",
       "2           [arxiv.Result.Author('Philip B. Stark')]   \n",
       "3  [arxiv.Result.Author('Peichen Xie'), arxiv.Res...   \n",
       "4          [arxiv.Result.Author('Matthew Bernhard')]   \n",
       "\n",
       "                                             Journal  \n",
       "0                                                NaN  \n",
       "1                                                NaN  \n",
       "2  Annals of Applied Statistics 2008, Vol. 2, No....  \n",
       "3                                                NaN  \n",
       "4                                                NaN  "
      ]
     },
     "execution_count": 2,
     "metadata": {},
     "output_type": "execute_result"
    }
   ],
   "source": [
    "import warnings\n",
    "warnings.filterwarnings('ignore')\n",
    "import numpy as np\n",
    "from pyChatGPT import ChatGPT\n",
    "import pandas as pd\n",
    "df = pd.read_csv('DataCollection/DB.csv')\n",
    "df.head()"
   ]
  },
  {
   "cell_type": "code",
   "execution_count": 134,
   "id": "ca332a04-0ce9-45d7-ba61-5bd0070b2e72",
   "metadata": {},
   "outputs": [
    {
     "name": "stderr",
     "output_type": "stream",
     "text": [
      "WARNING:urllib3.connectionpool:Connection pool is full, discarding connection: localhost. Connection pool size: 1\n"
     ]
    }
   ],
   "source": [
    "session_token = 'eyJhbGciOiJkaXIiLCJlbmMiOiJBMjU2R0NNIn0..N-LTxzIDgFkjipOO.3a3LbsF97HBvq-PqhnfOT0oDiD8RzuM6EFaEuDhqGs98HiqsWXFcgE5YtZwMXJKiaYP0QGM9AnLX396X4FHYgBo4YjysfhwZdGnp7TzznWKu3Y6vNN1CQbeCiVNLzfFoaAq_-MKo2KUZGnM-QIojQAH-G60QJcnNxx32kBwvin6tn7kWOGOEzaaADZIkQ9AwBKVZG_43rLNBv3GxbIyjBWicLI1RSakpyQvyccxfryBwiEbm2nw2Z2I5azvsnPrAiHXeN7YONvVDXsvoXYPVQ5RgdMjArmtCdGOkW9JrgCIbhFLP6n6Ci8yu8M5VnkePbFbXwCdn7gcCQj24ZirpRr6Dpx4Es_MLzt_l2wfnaYZHo_PaMeGbZl9Jc0BxphT0zA0LXpykEInxiDYuiYExE7eYQslZAZIwtpJ6lP5NVuvMtixu2ONrntj8JFgLU5HfMlRtXJ7cvGr_1SSm-7qlnzzqpUtWNxVOoBGXjR2uETyxpy9aUXbA6OFAfW84x51gV1Er5MFSjswTe7RDqUBLpfSOMmVj0zlz3uJTaLJQh_poK-XRUIhcF8wPQ2YdR4IwOQx-N5SG32T2iybYHCC84713aM8HyTGc3v-0ejajpULN5yeMj5CY339JtJaQvYlWYuEkazQkUd8yJajmj-NSxn4yeSkfom2oDIH50WE7VrLO0DeJCPGreIk97VB7_nCmn0Nj1Z6f7Fu5oViKEhpLdaF_UgFBZAnStZebyemr6V86KRUY0Ec6C-dbIMJOsyDjFdVgXFh3trncGNARtJGbsyem7BcdK6L77NrtHT2PmkbtqiI51BlEEGYmlOqN2eBWuqpUxGWCa9COhiWjVjXCGexAuKfyrwmyjPJIOa3BPfhZ5vnlt6KMiONEpVDqgtGSILUkbsLQeJzlZLu8NUDcyEnKFM3GNl7Vk6_pOYSOQ_daXhOQIIesiXE8g-r_K5el63bRuUhg5kJ8gbDQ5RTlq3NOxH1LD_BiggwIvgKh00IlgsFKXjpRkrf-HnGBx1nrTi_ij2-kOzXINpVG128L6OaTl4XAF3arAOu3s_nfXKQyDKRrpLEUcrBYA5INFV1pjBoRPeybb6Dr5pVr8Ry734QL5NXO8SV_lLJZvf5su8MsXCWEW7BDGOCrqsHRK9wky4Jr3Ej20YkuQJ76nX71skUUc6_OGxSB6BR_3KKl3RyGEKF7GzxNcC4yKE4BcmF66n4rFdyKghbTfc3T0EcIBt0E8TwAMywVWCx9Efe0IYc2luVe8nRwtjt4NrCaxTBEu-LzCAAKicxjeTmTMGet-tAQlYqRGlHLSSqEfR-gXlvnV-pYp1Y7UD8zS_YEnMo7daq-qXEReiXRsMwhquv6lXZnwI5AIvS8qEcT79mtYPdBlgDtYxi_23m5YqQdobwdSRwjEj5KF-UhNvD1-0plWAT0DNABEiKOaZESIbmUzfFySfQ68XwlcqScC2tms5kv0C8cAZI0PRCMcuwYKtuIU4QndtJN0vJGcDU_gCGUZp6kzCk-AxuLvLiCUGm-V3ARYGaQgQN0jJI3fsrlB7d-secywfeL764CRiGdWFfWaujEo_Sg_Bjvdj8PvWIPR84vXhXm-mFw9SgJv3B-BPQ1BjEStsS1Ouz8wUIObqE6Ei1YOpA7JVYa8USSAfG1Tc8hfg8FwbfFvZSKXUS4TFOlkjpuuUfSZswDXQYc2imJ3sHembBk0LlBO_DFSibPKesqJoPOtVchb9q21oYZ_vArRQwXSfKfWryxdOv6FQAL7DuLYcZoS6sinvt6q0Ae3J3W-Bxpnb6CxGN82P7xQ7_axY-tskVHqeiKswUBnhFb0FxyHnSJEqs-0UnUC9QG4bwXHm-2J4zMGSWRzzt4tNUuPyjNLaCwDR0s87TgumqD14VMGTj0Tq2VSds8oNyHpGQCOhCzloPQtRe-mZcnvB8sIu5JjxcGZnqi1F_OwPpmGuxZfQYjdY8-T0xHOe9B5ckbrG3AhWkKgalM6jdAyxuejK-X1_HRcrtQmWpRS11qYL_mkDDJxarSmE9PHPJr2PZrJTQuwQ4LFQw1NCvioY5vD6MgcWKwZ3SGGPY8UsCb6wJdKCd9D5EfZkc0TECM2u9tSGgwG0-XxwPP2YvuQ1_qPGT-cRWb2y1cSDvx0360Zrp9B3vOZW9z5yxNFYJXLOsGvEL8zHuIAfIutT-XPBpuW2vaPtwuyzUwL5JgCciH1_Obaqvp2Fv8YXv2DkFxCYvQ2ROJV17tJyKsrt0LtPyEwX_EaqDf20_3oXyLYQBQtdIauRKuzD6_7yQMW8pRHT5r4cmC19oAmXS45rpnk6sr966OOG5p9oj_NggJRjGASUuZgdBJiFmADsWQLHSTEE-anzjyPsLb.aqE1cOBRiIBKv9QIZpiMHQ'  # `__Secure-next-auth.session-token` cookie from https://chat.openai.com/chat\n",
    "api_client = ChatGPT(session_token)  # auth with session token\n"
   ]
  },
  {
   "cell_type": "markdown",
   "id": "9f717d54-4d41-4a5f-a1d0-e3f1792eda69",
   "metadata": {},
   "source": [
    "## Designing standard questions from ChatGPT and putting them in our main dataframe  "
   ]
  },
  {
   "cell_type": "code",
   "execution_count": 135,
   "id": "e2721ce1-f1af-4ac3-8383-4051b51555a8",
   "metadata": {},
   "outputs": [],
   "source": [
    "def extract_keywords(index):\n",
    "    \"\"\"Extracts the top 5 keywords of a paper summary as a list.\n",
    "\n",
    "    Args:\n",
    "        index (int): The index of the paper in the dataframe.\n",
    "\n",
    "    Returns:\n",
    "        list: The list of keywords.\n",
    "    \"\"\"\n",
    "    # Send a message to the API and get the response\n",
    "    response = api_client.send_message(f'Wrtie only the list of top 5 keywords of this summary as a python list type :\\n{df.iloc[index][\"Summary\"]}')\n",
    "    # Extract the message from the response\n",
    "    message = response['message']\n",
    "    # Remove leading whitespace\n",
    "    message = message.lstrip('\\\"')\n",
    "    # Split the message into a list\n",
    "    message_list = message.split(sep=',')\n",
    "    # Strip and clean up each element in the list\n",
    "    keywords = [message_list[i].strip().replace(\"[\", \"\").replace(\"]\",\"\")[1:-1] for i in range(len(message_list))]\n",
    "    # Return the list of keywords\n",
    "    return keywords\n"
   ]
  },
  {
   "cell_type": "code",
   "execution_count": 136,
   "id": "063a4f64-362e-43cb-bf63-8431fff3b761",
   "metadata": {},
   "outputs": [
    {
     "name": "stderr",
     "output_type": "stream",
     "text": [
      "WARNING:urllib3.connectionpool:Connection pool is full, discarding connection: localhost. Connection pool size: 1\n"
     ]
    },
    {
     "data": {
      "text/plain": [
       "['keywords', 'passengers', 'airplane', 'seats', 'distribution']"
      ]
     },
     "execution_count": 136,
     "metadata": {},
     "output_type": "execute_result"
    },
    {
     "name": "stderr",
     "output_type": "stream",
     "text": [
      "WARNING:urllib3.connectionpool:Retrying (Retry(total=2, connect=None, read=None, redirect=None, status=None)) after connection broken by 'NewConnectionError('<urllib3.connection.HTTPConnection object at 0x7fd435420df0>: Failed to establish a new connection: [Errno 111] Connection refused')': /session/3d02e5a3f4b25e40b52aae591732ea85/se/log\n",
      "WARNING:urllib3.connectionpool:Retrying (Retry(total=1, connect=None, read=None, redirect=None, status=None)) after connection broken by 'NewConnectionError('<urllib3.connection.HTTPConnection object at 0x7fd4354689a0>: Failed to establish a new connection: [Errno 111] Connection refused')': /session/3d02e5a3f4b25e40b52aae591732ea85/se/log\n",
      "WARNING:urllib3.connectionpool:Retrying (Retry(total=0, connect=None, read=None, redirect=None, status=None)) after connection broken by 'NewConnectionError('<urllib3.connection.HTTPConnection object at 0x7fd436b31460>: Failed to establish a new connection: [Errno 111] Connection refused')': /session/3d02e5a3f4b25e40b52aae591732ea85/se/log\n",
      "WARNING:urllib3.connectionpool:Retrying (Retry(total=2, connect=None, read=None, redirect=None, status=None)) after connection broken by 'NewConnectionError('<urllib3.connection.HTTPConnection object at 0x7fd436be8d00>: Failed to establish a new connection: [Errno 111] Connection refused')': /session/bcd12820f50f9d648f83dc8cf5c260d1/se/log\n",
      "WARNING:urllib3.connectionpool:Retrying (Retry(total=1, connect=None, read=None, redirect=None, status=None)) after connection broken by 'NewConnectionError('<urllib3.connection.HTTPConnection object at 0x7fd436b31940>: Failed to establish a new connection: [Errno 111] Connection refused')': /session/bcd12820f50f9d648f83dc8cf5c260d1/se/log\n",
      "WARNING:urllib3.connectionpool:Retrying (Retry(total=0, connect=None, read=None, redirect=None, status=None)) after connection broken by 'NewConnectionError('<urllib3.connection.HTTPConnection object at 0x7fd436b31190>: Failed to establish a new connection: [Errno 111] Connection refused')': /session/bcd12820f50f9d648f83dc8cf5c260d1/se/log\n",
      "WARNING:urllib3.connectionpool:Retrying (Retry(total=2, connect=None, read=None, redirect=None, status=None)) after connection broken by 'NewConnectionError('<urllib3.connection.HTTPConnection object at 0x7fd43836ca90>: Failed to establish a new connection: [Errno 111] Connection refused')': /session/ceb48a398fc2a05d0f68ea2919e5f7f4/se/log\n",
      "WARNING:urllib3.connectionpool:Retrying (Retry(total=1, connect=None, read=None, redirect=None, status=None)) after connection broken by 'NewConnectionError('<urllib3.connection.HTTPConnection object at 0x7fd436b314f0>: Failed to establish a new connection: [Errno 111] Connection refused')': /session/ceb48a398fc2a05d0f68ea2919e5f7f4/se/log\n",
      "WARNING:urllib3.connectionpool:Retrying (Retry(total=0, connect=None, read=None, redirect=None, status=None)) after connection broken by 'NewConnectionError('<urllib3.connection.HTTPConnection object at 0x7fd4353df850>: Failed to establish a new connection: [Errno 111] Connection refused')': /session/ceb48a398fc2a05d0f68ea2919e5f7f4/se/log\n"
     ]
    }
   ],
   "source": [
    "extract_keywords(23)"
   ]
  },
  {
   "cell_type": "code",
   "execution_count": 7,
   "id": "c85ca32e-c396-4964-9feb-cd20802caca8",
   "metadata": {},
   "outputs": [],
   "source": []
  },
  {
   "cell_type": "code",
   "execution_count": 23,
   "id": "7a797014-162c-425c-893a-790e4dfe1224",
   "metadata": {},
   "outputs": [],
   "source": [
    "# Standarizing datetime object\n",
    "\n",
    "\n",
    "import datetime\n",
    "\n",
    "# Get the value of the 'Publish Time' column from the first row of the dataframe\n",
    "pub_time = df['Publish Time'][0]\n",
    "\n",
    "# Convert the string to a datetime object\n",
    "pub_time = datetime.datetime.strptime(pub_time, '%Y-%m-%d %H:%M:%S%z')\n"
   ]
  },
  {
   "cell_type": "code",
   "execution_count": 53,
   "id": "71139b26-7c98-4bfa-b3fe-8d928eb194ff",
   "metadata": {},
   "outputs": [],
   "source": [
    "# Fixing the style of author names \n",
    "import re\n",
    "strs = df.Authors[0]\n",
    "out = re.findall(r\"'(.*?)'\", strs, re.DOTALL)"
   ]
  },
  {
   "cell_type": "code",
   "execution_count": 54,
   "id": "3fd8f3d8-7e30-451d-848c-e0a4e4100e5a",
   "metadata": {},
   "outputs": [
    {
     "data": {
      "text/plain": [
       "list"
      ]
     },
     "execution_count": 54,
     "metadata": {},
     "output_type": "execute_result"
    }
   ],
   "source": [
    "type(out)"
   ]
  }
 ],
 "metadata": {
  "kernelspec": {
   "display_name": "Python 3 (ipykernel)",
   "language": "python",
   "name": "python3"
  },
  "language_info": {
   "codemirror_mode": {
    "name": "ipython",
    "version": 3
   },
   "file_extension": ".py",
   "mimetype": "text/x-python",
   "name": "python",
   "nbconvert_exporter": "python",
   "pygments_lexer": "ipython3",
   "version": "3.9.7"
  }
 },
 "nbformat": 4,
 "nbformat_minor": 5
}
