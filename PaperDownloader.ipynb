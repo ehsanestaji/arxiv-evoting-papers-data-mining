{
 "cells": [
  {
   "cell_type": "code",
   "execution_count": 1,
   "id": "511fb966-034f-4cdd-bfac-9f2250c6ed8f",
   "metadata": {},
   "outputs": [],
   "source": [
    "import warnings\n",
    "\n",
    "# disable warning messages\n",
    "warnings.filterwarnings('ignore')\n",
    "\n",
    "# your code here\n",
    "\n",
    "\n",
    "\n",
    "\n",
    "import arxiv\n",
    "import pandas as pd\n",
    "import regex as re\n",
    "from tqdm import tqdm\n",
    "import glob \n",
    "import os\n",
    "import spacy"
   ]
  },
  {
   "cell_type": "code",
   "execution_count": 5,
   "id": "a12cba0c-9451-4cb5-8509-abd44e2d905c",
   "metadata": {},
   "outputs": [
    {
     "data": {
      "text/plain": [
       "'PaperCollection/1605.08386v1.pdf'"
      ]
     },
     "execution_count": 5,
     "metadata": {},
     "output_type": "execute_result"
    }
   ],
   "source": [
    "import arxiv\n",
    "id = \"1605.08386v1\"\n",
    "paper = next(arxiv.Search(id_list=[id]).results())\n",
    "# Download the PDF to the PWD with a default filename.\n",
    "#paper.download_pdf()\n",
    "# Download the PDF to the PWD with a custom filename.\n",
    "#paper.download_pdf(filename=\"downloaded-paper.pdf\")\n",
    "# Download the PDF to a specified directory with a custom filename.\n",
    "paper.download_pdf(dirpath=\"PaperCollection/\", filename=id+\".pdf\")"
   ]
  },
  {
   "cell_type": "code",
   "execution_count": 6,
   "id": "d8049dc3-d0c6-4ec7-b156-3aa35adae30e",
   "metadata": {},
   "outputs": [
    {
     "name": "stdout",
     "output_type": "stream",
     "text": [
      "Collecting PyPDF2\n",
      "  Downloading pypdf2-3.0.1-py3-none-any.whl (232 kB)\n",
      "\u001b[2K     \u001b[38;2;114;156;31m━━━━━━━━━━━━━━━━━━━━━━━━━━━━━━━━━━━━━━━\u001b[0m \u001b[32m232.6/232.6 kB\u001b[0m \u001b[31m8.3 MB/s\u001b[0m eta \u001b[36m0:00:00\u001b[0m\n",
      "\u001b[?25hRequirement already satisfied: typing_extensions>=3.10.0.0 in /home/ehsan/anaconda3/lib/python3.9/site-packages (from PyPDF2) (4.4.0)\n",
      "Installing collected packages: PyPDF2\n",
      "Successfully installed PyPDF2-3.0.1\n",
      "Note: you may need to restart the kernel to use updated packages.\n"
     ]
    }
   ],
   "source": [
    "pip install PyPDF2"
   ]
  },
  {
   "cell_type": "code",
   "execution_count": 15,
   "id": "fcbd12ae-cee9-4cce-a958-6f1991aa20c7",
   "metadata": {},
   "outputs": [
    {
     "name": "stdout",
     "output_type": "stream",
     "text": [
      "20\n",
      "2 CAPRICE STANLEY AND TOBIAS WINDISCH\n",
      "reached by a random walk that uses moves from M, whereas for the continuous version, a\n",
      "random sampling from the unit sphere suﬃces. However, in man y situations where a Markov\n",
      "basis is known, the heat-bath random walk is evidently fast. For instance, it was shown in [3]\n",
      "that the heat-bath random walk on contingency tables mixes r apidly when the number of\n",
      "columns is ﬁxed. To work around the connectedness issue, a discrete hit-and-run algorithm\n",
      "was introduced in [1] for arbitrary ﬁnite sets F ⊂Zd. At each step in this random walk, a\n",
      "subordinate and unrestricted random walk starts at the curr ent lattice point u∈ Fand uses\n",
      "the unit vectors to collect a set of proposals S⊂Zd. The random walk then moves from u\n",
      "to a random point in S∩F.\n",
      "Random walks of the heat-bath type, such as the one presented above, have been studied\n",
      "recently in [8] in a more general context. In this paper, we ex plore the mixing behaviour of\n",
      "heat-bath random walks on the lattice points of polytopes wi th Markov bases. Throughout,\n",
      "we assume that a Markov basis has been found already and refer to the relevant literature\n",
      "for their computation [24, 25, 11, 17, 10, 21]. We call the und erlying graph of the heat-bath\n",
      "random walk a compressed ﬁber graph (Deﬁnition 2.5) and determine in Section 3bounds on\n",
      "its graph-diameter. We provethat forany A∈Zm×dwithker Z(A)∩Nd={0}, thediameter of\n",
      "compressed ﬁber graphs on {u∈Nd:Au=b}that use a ﬁxed Markov bases M ⊂kerZ(A) is\n",
      "bounded from above by a constant as bvaries (Theorem 3.15). In contrast, we show that the\n",
      "diameterofconventional ﬁbergraphsgrowlinearlyunderad ilationoftheunderlyingpolytope\n",
      "(Remark 3.9). This gives rise to slow mixing results for conventional ﬁb er walks as observed\n",
      "in [27]. In Section 4, we study in more detail the combinatorial and analytical st ructure\n",
      "of the transition matrices of heat-bath random walks on latt ice points and prove upper and\n",
      "lower bounds on their second largest eigenvalues. We also di scuss how the distribution on the\n",
      "movesMaﬀects the speed of convergence (Example 4.21). Theorem 5.8establishes with the\n",
      "canonical path approach from [23] an upper bound on the second largest eigenvalue whe n the\n",
      "Markov basis is augmenting (Deﬁnition 5.1) and the stationary distribution is uniform. From\n",
      "that, we conclude fast mixing results for random walks on lat tice points in ﬁxed dimension.\n",
      "Acknowledgements. CS was partially supported by the US National Science Founda tion\n",
      "(DMS 0954865). TWgratefully acknowledges thesupportrece ived fromtheGerman National\n",
      "Academic Foundation.\n",
      "Conventions and Notation. Thenaturalnumbersare N:={0,1,2,...}andforany N∈N,\n",
      "N>N:={n∈N:n > N}andN≥N:={N}∪N>N. Forn∈N>0, let [n] :={1,...,n}. Let\n",
      "M ⊂Qdbe a ﬁnite set, then Z·M:={λm:m∈ M,λ∈Z}andNMis the aﬃne semigroup\n",
      "inZdgenerated by M. For an integer matrix A∈Zm×dwith columns a1,...,ad∈Zm,\n",
      "we write NA:=N{a1,...,ad}. A graph is always undirected and can have multiple loops.\n",
      "The distance of two nodes u,vwhich are contained in the same connected component of a\n",
      "graphG, i.e. the number of edges in a shortest path between uandvinG, is denoted by\n",
      "distG(u,v). We set dist G(u,v) :=∞ifuandvare disconnected. A mass function on a ﬁnite\n",
      "set Ω is a map f: Ω→[0,1] such that/summationtext\n",
      "ω∈Ωf(ω) = 1. A mass function fon Ω ispositive\n",
      "iff(ω)>0 for all ω∈Ω. A set F ⊂Zdisnormalif it there exists a polytope P ⊂Qdsuch\n",
      "thatP ∩Zd=F.\n"
     ]
    }
   ],
   "source": [
    "# importing required modules\n",
    "import PyPDF2\n",
    "\n",
    "# creating a pdf file object\n",
    "pdfFileObj = open('PaperCollection/downloaded-paper.pdf', 'rb')\n",
    "\n",
    "# creating a pdf reader object\n",
    "pdfReader = PyPDF2.PdfReader(pdfFileObj)\n",
    "\n",
    "# printing number of pages in pdf file\n",
    "print(len(pdfReader.pages))\n",
    "\n",
    "# creating a page object\n",
    "pageObj = pdfReader.pages[1]\n",
    "\n",
    "# extracting text from page\n",
    "print(pageObj.extract_text())\n",
    "\n",
    "# closing the pdf file object\n",
    "pdfFileObj.close()\n"
   ]
  },
  {
   "cell_type": "code",
   "execution_count": null,
   "id": "e17abf82-93c2-48cd-86d0-7f515c240e26",
   "metadata": {},
   "outputs": [],
   "source": []
  }
 ],
 "metadata": {
  "kernelspec": {
   "display_name": "Python 3 (ipykernel)",
   "language": "python",
   "name": "python3"
  },
  "language_info": {
   "codemirror_mode": {
    "name": "ipython",
    "version": 3
   },
   "file_extension": ".py",
   "mimetype": "text/x-python",
   "name": "python",
   "nbconvert_exporter": "python",
   "pygments_lexer": "ipython3",
   "version": "3.9.7"
  }
 },
 "nbformat": 4,
 "nbformat_minor": 5
}
