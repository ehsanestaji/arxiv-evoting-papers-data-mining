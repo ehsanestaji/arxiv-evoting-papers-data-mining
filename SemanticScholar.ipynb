{
 "cells": [
  {
   "cell_type": "code",
   "execution_count": 1,
   "id": "ddf09fc3-4316-487b-8550-a95c3437fd64",
   "metadata": {},
   "outputs": [
    {
     "name": "stdout",
     "output_type": "stream",
     "text": [
      "Collecting semanticscholar\n",
      "  Downloading semanticscholar-0.3.2-py3-none-any.whl (13 kB)\n",
      "Requirement already satisfied: requests in /home/ehsan/anaconda3/lib/python3.9/site-packages (from semanticscholar) (2.28.1)\n",
      "Requirement already satisfied: tenacity in /home/ehsan/anaconda3/lib/python3.9/site-packages (from semanticscholar) (8.0.1)\n",
      "Requirement already satisfied: idna<4,>=2.5 in /home/ehsan/anaconda3/lib/python3.9/site-packages (from requests->semanticscholar) (3.4)\n",
      "Requirement already satisfied: certifi>=2017.4.17 in /home/ehsan/anaconda3/lib/python3.9/site-packages (from requests->semanticscholar) (2022.9.24)\n",
      "Requirement already satisfied: urllib3<1.27,>=1.21.1 in /home/ehsan/anaconda3/lib/python3.9/site-packages (from requests->semanticscholar) (1.26.13)\n",
      "Requirement already satisfied: charset-normalizer<3,>=2 in /home/ehsan/anaconda3/lib/python3.9/site-packages (from requests->semanticscholar) (2.0.4)\n",
      "Installing collected packages: semanticscholar\n",
      "Successfully installed semanticscholar-0.3.2\n",
      "Note: you may need to restart the kernel to use updated packages.\n"
     ]
    }
   ],
   "source": [
    "pip install semanticscholar"
   ]
  },
  {
   "cell_type": "code",
   "execution_count": 6,
   "id": "0498e8eb-d0ae-41a2-9f50-2e901651e684",
   "metadata": {},
   "outputs": [
    {
     "name": "stdout",
     "output_type": "stream",
     "text": [
      "['Mathematics', 'Computer Science']\n",
      "['Mathematics']\n",
      "['Mathematics', 'Computer Science']\n",
      "None\n",
      "None\n",
      "['Computer Science']\n",
      "None\n",
      "None\n",
      "None\n",
      "['Medicine']\n",
      "['Medicine']\n",
      "['Medicine']\n",
      "['Medicine']\n",
      "['Computer Science']\n",
      "['Economics']\n",
      "None\n",
      "['Mathematics']\n",
      "['Medicine']\n",
      "['Medicine']\n",
      "['Medicine']\n",
      "['Mathematics']\n",
      "None\n",
      "None\n",
      "['Medicine']\n",
      "['Medicine']\n",
      "None\n",
      "['Medicine']\n",
      "None\n",
      "['Business']\n",
      "['Medicine']\n",
      "['Medicine']\n",
      "['Medicine']\n",
      "['Medicine']\n",
      "None\n",
      "['Business']\n",
      "['Economics']\n",
      "['Sociology']\n",
      "['Medicine']\n",
      "['Medicine']\n",
      "None\n",
      "['Medicine']\n",
      "['Mathematics']\n",
      "['Medicine']\n",
      "['Medicine']\n",
      "['Medicine']\n",
      "None\n",
      "['Medicine']\n",
      "['Medicine']\n",
      "['Computer Science']\n",
      "['Computer Science']\n",
      "['Medicine']\n",
      "None\n",
      "None\n",
      "None\n",
      "['Medicine']\n",
      "['Medicine']\n",
      "None\n",
      "['Business']\n",
      "['Psychology']\n",
      "['Biology']\n",
      "['Medicine']\n",
      "['Medicine']\n",
      "['Medicine']\n",
      "['Economics']\n",
      "['Business']\n",
      "None\n",
      "['Medicine']\n",
      "['Engineering']\n",
      "['Medicine']\n",
      "['Medicine']\n",
      "['Medicine']\n",
      "['Materials Science']\n",
      "None\n",
      "None\n",
      "None\n",
      "None\n",
      "['Medicine']\n",
      "['Medicine']\n",
      "['Medicine']\n",
      "None\n",
      "['Business']\n",
      "['Medicine']\n",
      "['Business']\n",
      "None\n",
      "None\n",
      "['Medicine']\n",
      "['Medicine']\n"
     ]
    }
   ],
   "source": [
    "from semanticscholar import SemanticScholar\n",
    "sch = SemanticScholar()\n",
    "results = sch.search_paper('Conservative statistical post-election audits')\n",
    "for item in results:\n",
    "     print(item.fieldsOfStudy)"
   ]
  },
  {
   "cell_type": "code",
   "execution_count": null,
   "id": "ea1a47f5-7038-42c6-839a-fcb83f3ab6b8",
   "metadata": {},
   "outputs": [],
   "source": []
  }
 ],
 "metadata": {
  "kernelspec": {
   "display_name": "Python 3 (ipykernel)",
   "language": "python",
   "name": "python3"
  },
  "language_info": {
   "codemirror_mode": {
    "name": "ipython",
    "version": 3
   },
   "file_extension": ".py",
   "mimetype": "text/x-python",
   "name": "python",
   "nbconvert_exporter": "python",
   "pygments_lexer": "ipython3",
   "version": "3.9.7"
  }
 },
 "nbformat": 4,
 "nbformat_minor": 5
}
